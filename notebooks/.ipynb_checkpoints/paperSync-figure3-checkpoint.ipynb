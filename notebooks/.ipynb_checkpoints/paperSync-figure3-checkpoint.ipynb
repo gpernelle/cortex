{
 "cells": [
  {
   "cell_type": "code",
   "execution_count": null,
   "metadata": {
    "collapsed": false
   },
   "outputs": [],
   "source": [
    "import fns\n",
    "from fns import *\n",
    "from fns.functionsTFhardbound import *\n",
    "%matplotlib inline\n",
    "\n",
    "today = datetime.date.today()\n",
    "todayStr = '%04d%02d%02d' % (today.year, today.month, today.day)\n",
    "# todayStr = '20151005'\n",
    "DIRECTORY = os.path.expanduser(\"~/Dropbox/0000_PhD/figures/\"+todayStr+\"/\")\n",
    "CSV_DIR_TODAY = os.path.expanduser(\"~/Dropbox/0000_PhD/csv/\"+todayStr+\"/\")\n",
    "CSV_DIR = os.path.expanduser(\"~/Dropbox/0000_PhD/csv/\")\n",
    "FIG_DIR = os.path.expanduser(\"~/Dropbox/0000_PhD/figures/\")\n",
    "if not os.path.exists(DIRECTORY):\n",
    "    os.makedirs(DIRECTORY)\n",
    "    \n",
    "# from bokeh.io import output_notebook\n",
    "# from bokeh.plotting import figure, show, output_file\n",
    "# output_notebook()\n",
    "from IPython.display import clear_output, Image, display"
   ]
  },
  {
   "cell_type": "code",
   "execution_count": null,
   "metadata": {
    "collapsed": true
   },
   "outputs": [],
   "source": [
    "PAPER = os.path.expanduser('~/Dropbox/ICL-2014/Presentations/2016-10-11-GJ-sync-paper/figures/')"
   ]
  },
  {
   "cell_type": "code",
   "execution_count": null,
   "metadata": {
    "collapsed": true
   },
   "outputs": [],
   "source": [
    "sns.set_context(\"paper\", font_scale=1.5, rc={\"lines.linewidth\": 2.5})\n",
    "# matplotlib.rc(\"font\", family=\"Times\")"
   ]
  },
  {
   "cell_type": "code",
   "execution_count": null,
   "metadata": {
    "collapsed": false
   },
   "outputs": [],
   "source": [
    "# --------------------------------------------------------------------------------\n",
    "# plot subthreshold resonance\n",
    "# --------------------------------------------------------------------------------\n",
    "fig = plt.figure(figsize=(6,6))\n",
    "tauv=45\n",
    "ax01 = fig.add_subplot(111)\n",
    "F = np.logspace(0.5, 2.3, 200)\n",
    "mod = resonanceFS(tauv=tauv)\n",
    "mod15 = resonanceFS(tauv=15)\n",
    "ax01.semilogx(F, mod / np.nanmax(mod), label='$f_{max}$ : %.1fHz' % (F[np.argmax(mod)]), color='#9999cc')\n",
    "ax01.semilogx(F, mod15 / np.nanmax(mod15), label='$f_{max}$ : %.1fHz' % (F[np.argmax(mod15)]), color='#66ccff')\n",
    "ax01.set_ylim([0, 1.05])\n",
    "ax01.set_xlabel('Stimulus Frequency [Hz]')\n",
    "ax01.set_ylabel('Normalised Response Amplitude')\n",
    "ax01.set_xlim([0, 200])\n",
    "ax01.set_title('Subthreshold Resonant Property', y=1.08)\n",
    "ax01.legend()\n",
    "plt.tight_layout()\n",
    "plt.savefig(PAPER + '2resonances.svg')"
   ]
  },
  {
   "cell_type": "code",
   "execution_count": null,
   "metadata": {
    "collapsed": true
   },
   "outputs": [],
   "source": [
    "def readMatrix(path=''):\n",
    "    # simulation parameters\n",
    "    with open(path) as file:\n",
    "        array2d = [[float(digit) for digit in line.split()] for line in file]\n",
    "    return array2d"
   ]
  },
  {
   "cell_type": "code",
   "execution_count": null,
   "metadata": {
    "collapsed": false
   },
   "outputs": [],
   "source": [
    "# --------------------------------------------------------------------------------\n",
    "# PLot weights\n",
    "# --------------------------------------------------------------------------------\n",
    "# Instantiate classes\n",
    "\n",
    "data_path = '/mnt/DATA/gp1514/Projects/github/cortex/data/olddata/'\n",
    "\n",
    "\n",
    "GAP2D0 = readMatrix(data_path + 'GAP0_g-10_TImean-30_T-30020_Glob-0_dt-0.25_N-400_r-0_S-100_WII-1400_LTD-0.00188_LTP-0.0282_model-gp-izh-subnetworks_sG-28_sWII-10_tauv-59_0.txt')\n",
    "GAP2D = readMatrix(data_path + 'GAP_g-10_TImean-30_T-30020_Glob-0_dt-0.25_N-400_r-0_S-100_WII-1400_LTD-0.00188_LTP-0.0282_model-gp-izh-subnetworks_sG-28_sWII-10_tauv-59_0.txt')\n",
    "\n",
    "fig = plt.figure(figsize=(6,4))\n",
    "ax1 = plt.subplot(111)\n",
    "im1 = ax1.imshow(np.array(GAP2D0), interpolation='nearest')\n",
    "ax1.set_title(r'$\\gamma(t = 0s)$')\n",
    "fig.colorbar(im1)\n",
    "plt.savefig(PAPER + 'weights_0.svg')\n",
    "\n",
    "fig = plt.figure(figsize=(6,4))\n",
    "ax2 = plt.subplot(111)\n",
    "im2 = ax2.imshow(np.array(GAP2D), interpolation='nearest')\n",
    "ax2.set_title(r'$\\gamma(t = 30s)$')\n",
    "fig.colorbar(im2)\n",
    "plt.tight_layout()\n",
    "plt.savefig(PAPER + 'weights_end.svg')"
   ]
  },
  {
   "cell_type": "code",
   "execution_count": null,
   "metadata": {
    "collapsed": false
   },
   "outputs": [],
   "source": [
    "tauv, sG, N, T, nu = 15, 0, 2000, 20000, 50\n",
    "rasterPath = \"../data/rasters/rasterPlast-tauv-%d_g-%d_N-%d_T-%d_k-%d\" % (tauv, sG, N, T, nu)\n",
    "r = np.load(rasterPath)\n",
    "varPath = \"../data/rasters/rastervarPlast-tauv-%d_g-%d_N-%d_T-%d_k-%d\" % (tauv, sG, N, T, nu)\n",
    "var = np.load(varPath)"
   ]
  },
  {
   "cell_type": "code",
   "execution_count": null,
   "metadata": {
    "collapsed": false
   },
   "outputs": [],
   "source": [
    "list(var.keys())"
   ]
  },
  {
   "cell_type": "code",
   "execution_count": null,
   "metadata": {
    "collapsed": false
   },
   "outputs": [],
   "source": [
    "plt.plot(var['g1N1'])\n",
    "plt.plot(var['g1N2'])"
   ]
  },
  {
   "cell_type": "code",
   "execution_count": null,
   "metadata": {
    "collapsed": false
   },
   "outputs": [],
   "source": [
    "plt.imshow(r[:, 0:2e4])"
   ]
  },
  {
   "cell_type": "code",
   "execution_count": null,
   "metadata": {
    "collapsed": false
   },
   "outputs": [],
   "source": []
  },
  {
   "cell_type": "code",
   "execution_count": null,
   "metadata": {
    "collapsed": false
   },
   "outputs": [],
   "source": []
  },
  {
   "cell_type": "code",
   "execution_count": null,
   "metadata": {
    "collapsed": false
   },
   "outputs": [],
   "source": [
    "# TOOLS=\"hover,crosshair,pan,wheel_zoom,box_zoom,undo,redo,reset,tap,save,box_select,poly_select,lasso_select,\"\n",
    "\n",
    "# p = figure(tools=TOOLS)\n",
    "\n",
    "# start = 14900\n",
    "# end = 15000\n",
    "# s = find(x,start)\n",
    "# e = find(x,end)\n",
    "# xb = x[s:e]\n",
    "# yb = y[s:e]\n",
    "# p.scatter(x, y, radius=1,\n",
    "#          fill_alpha=0.6,\n",
    "#           line_color=None)\n",
    "\n",
    "# output_file(\"color_scatter.html\", title=\"color_scatter.py example\")\n",
    "\n",
    "# show(p)"
   ]
  },
  {
   "cell_type": "markdown",
   "metadata": {
    "collapsed": true
   },
   "source": [
    "## RASTERS"
   ]
  },
  {
   "cell_type": "code",
   "execution_count": null,
   "metadata": {
    "collapsed": false
   },
   "outputs": [],
   "source": [
    "def getSpikes(tauv, sg):\n",
    "    data_path = '/mnt/DATA/gp1514/Projects/github/cortex/data/olddata/'\n",
    "    path_x = (data_path + 'spike_x_g-10_TImean-30_T-30020_Glob-0_dt-0.25_N-400_r-0_S-100_WII-1400_LTD-0.00188_LTP-0.0282_model-gp-izh-subnetworks_sG-%d_sWII-10_tauv-%d_0.txt'%(sg,tauv))\n",
    "    path_y = (data_path + 'spike_y_g-10_TImean-30_T-30020_Glob-0_dt-0.25_N-400_r-0_S-100_WII-1400_LTD-0.00188_LTP-0.0282_model-gp-izh-subnetworks_sG-%d_sWII-10_tauv-%d_0.txt'%(sg,tauv))\n",
    "    spikes_x = np.fromfile(path_x, dtype='uint', count=-1, sep=\" \")\n",
    "    spikes_y = np.fromfile(path_y, dtype='uint', count=-1, sep=\" \")\n",
    "    return spikes_x, spikes_y\n"
   ]
  },
  {
   "cell_type": "code",
   "execution_count": null,
   "metadata": {
    "collapsed": true
   },
   "outputs": [],
   "source": [
    "def plotRaster(spikes_x, spikes_y, ax=None, titlestr=\"\"):\n",
    "    if not ax:\n",
    "        f = plt.figure(figsize=(4, 3))\n",
    "        ax = f.add_subplot(111)\n",
    "    # ax.set_xticks([])\n",
    "    # ax.set_yticks([0,300])\n",
    "    # ax.set_xlabel('Time [1.5s]')\n",
    "    # ax.set_ylabel('Neuron indices [0-300]')\n",
    "    # ax.set_title('Neuronal Activity')\n",
    "    if ax == None:\n",
    "        plt.plot(spikes_x, spikes_y, '.', markersize=1, color='grey')\n",
    "        plt.title(titlestr, y=1.08)\n",
    "    else:\n",
    "        ax.plot(spikes_x, spikes_y, '.', markersize=1, color='grey')\n",
    "        ax.set_title(titlestr, y=1.08)\n",
    "    return ax\n",
    "    # plt.savefig(DIRECTORY + extension + '_raster.pdf')\n",
    "    # plt.savefig(DIRECTORY + extension + '_raster.png')"
   ]
  },
  {
   "cell_type": "code",
   "execution_count": null,
   "metadata": {
    "collapsed": false
   },
   "outputs": [],
   "source": [
    "N=1000\n",
    "#--------------------------------------------------------------------------------\n",
    "# RASTER PLOT begin and end of simulation\n",
    "#--------------------------------------------------------------------------------\n",
    "fig= plt.figure(figsize=(6,4.5))\n",
    "ax1 = fig.add_subplot(211)\n",
    "ax2 = fig.add_subplot(212)\n",
    "plotRaster(spikes_x[0:50*N], spikes_y[0:50*N], ax=ax1)\n",
    "plotRaster(spikes_x[-50*N:], spikes_y[-50*N:], ax=ax2)"
   ]
  },
  {
   "cell_type": "code",
   "execution_count": null,
   "metadata": {
    "collapsed": false
   },
   "outputs": [],
   "source": [
    "lim = 15000\n",
    "sp =np.zeros([400, np.max(spikes_x[:lim])+1])\n",
    "sp[spikes_y[:lim], spikes_x[:lim]]=1\n",
    "plt.imshow(sp)"
   ]
  },
  {
   "cell_type": "code",
   "execution_count": null,
   "metadata": {
    "collapsed": false
   },
   "outputs": [],
   "source": [
    "N = 400\n",
    "plt.plot(np.mean(sp[:N//2,:], axis=0))\n",
    "plt.plot(np.mean(sp[N//2:,:], axis=0))"
   ]
  },
  {
   "cell_type": "code",
   "execution_count": null,
   "metadata": {
    "collapsed": false
   },
   "outputs": [],
   "source": [
    "def find(arr,v):\n",
    "    idx = (np.abs(arr - v)).argmin()\n",
    "    return idx"
   ]
  },
  {
   "cell_type": "code",
   "execution_count": null,
   "metadata": {
    "collapsed": true
   },
   "outputs": [],
   "source": [
    "def plotRaster(spikes_x, spikes_y, xmin, xmax):\n",
    "    plt.figure()\n",
    "    vmin = find(spikes_x, xmin)\n",
    "    vmax = find(spikes_x, xmax)\n",
    "    \n",
    "    spx = spikes_x[vmin:vmax]\n",
    "    spy = spikes_y[vmin:vmax]\n",
    "    \n",
    "    sp =np.zeros([400, xmax])\n",
    "    sp[spy, spx]=1\n",
    "    plt.imshow(sp)\n",
    "    plt.xlim([xmin,xmax])\n",
    "    plt.yticks([])"
   ]
  },
  {
   "cell_type": "code",
   "execution_count": null,
   "metadata": {
    "collapsed": false
   },
   "outputs": [],
   "source": [
    "spikes_x, spikes_y = getSpikes(45,0)\n",
    "\n",
    "plotRaster(spikes_x, spikes_y, 1000, 2000)\n",
    "plotRaster(spikes_x, spikes_y, 29000, 30000)"
   ]
  },
  {
   "cell_type": "markdown",
   "metadata": {},
   "source": [
    "## TEST & DEBUG"
   ]
  },
  {
   "cell_type": "code",
   "execution_count": null,
   "metadata": {
    "collapsed": false
   },
   "outputs": [],
   "source": [
    "g = 10\n",
    "N = 2000\n",
    "T = 1000\n",
    "nu = 100\n",
    "sG = 200\n",
    "tauv = 45\n",
    "gpu = TfConnEvolveNet(N=N,\n",
    "                  T=T,\n",
    "                  disp=False,\n",
    "                  tauv=tauv,\n",
    "                  device='/gpu:0',\n",
    "                  spikeMonitor=True,\n",
    "                  g0=g,\n",
    "                  startPlast = 0,\n",
    "                  nu = nu,\n",
    "                  NUM_CORES = 56,\n",
    "                  both=True,\n",
    "                 sG = sG,\n",
    "                      )\n",
    "# gpu.input = apple\n",
    "gpu.debug = False\n",
    "gpu.connectTime=500\n",
    "gpu.FACT = 50\n",
    "gpu.ratio = 1\n",
    "gpu.runTFSimul()\n",
    "\n",
    "filename = \"rastervarPlast-tauv-%d_g-%d_N-%d_T-%d_k-%d\" % (tauv, sG, N, T, nu)\n",
    "with open(filename, 'wb') as f:\n",
    "    four = fourier(gpu.vvm[100:])\n",
    "    np.savez(f,\n",
    "             vvm=gpu.vvm,\n",
    "             im=gpu.im,\n",
    "             freq=four[0],\n",
    "             power=four[1],\n",
    "             gamma=gpu.gamma,\n",
    "             )\n",
    "\n",
    "filename = \"rasterPlast-tauv-%d_g-%d_N-%d_T-%d_k-%d\" % (tauv, sG, N, T, nu)\n",
    "with open(filename, 'wb') as f:\n",
    "    r = np.array(gpu.raster)\n",
    "    r = r.reshape(r.shape[0], r.shape[1]).transpose()\n",
    "    np.save(f, r)"
   ]
  },
  {
   "cell_type": "code",
   "execution_count": null,
   "metadata": {
    "collapsed": false
   },
   "outputs": [],
   "source": [
    "t0=0\n",
    "t1=1000\n",
    "\n",
    "### DEBUG UNSTABILITY\n",
    "### note: when connecting subnetworks, jump in I from additional \n",
    "### spikelets creates unstability\n",
    "# plt.figure(figsize=(7,3))\n",
    "# plt.plot(gpu.vvmN2[t0:t1]/np.max(gpu.vvmN2))\n",
    "# plt.plot(gpu.wcontrol[t0:t1]/np.max(gpu.wcontrol), label='wcontrol')\n",
    "# plt.legend()\n",
    "# plt.plot(gpu.dwcontrol[t0:t1]/np.max(gpu.dwcontrol))\n",
    "# plt.plot(gpu.LTDcontrol[t0:t1])\n",
    "# plt.plot(gpu.LTPcontrol[t0:t1])\n",
    "\n",
    "plt.figure(figsize=(7,3))\n",
    "plt.plot(gpu.vvmN1[t0:t1])\n",
    "plt.plot(gpu.vvmN2[t0:t1])"
   ]
  },
  {
   "cell_type": "code",
   "execution_count": null,
   "metadata": {
    "collapsed": false
   },
   "outputs": [],
   "source": [
    "plt.plot(gpu.vvmN2)\n",
    "plt.figure()\n",
    "plt.plot(gpu.gammaN1)\n",
    "plt.plot(gpu.gammaN2)"
   ]
  },
  {
   "cell_type": "code",
   "execution_count": null,
   "metadata": {
    "collapsed": false
   },
   "outputs": [],
   "source": [
    "r = np.load(filename)\n",
    "plt.figure(figsize=(15,4))\n",
    "plt.imshow(r[500:1500, 0:], aspect=0.3)"
   ]
  },
  {
   "cell_type": "code",
   "execution_count": null,
   "metadata": {
    "collapsed": false
   },
   "outputs": [],
   "source": [
    "# for k in np.arange(0,200,10):\n",
    "#     a = np.load('../data/GetGammaSteadyState/GetSteadyState4-tauv-15_g-7_N-1000_T-40000_k-%d'%k)\n",
    "#     plt.plot(k,a['gamma'][-1]*2, '.')"
   ]
  },
  {
   "cell_type": "code",
   "execution_count": null,
   "metadata": {
    "collapsed": false
   },
   "outputs": [],
   "source": [
    "df = pd.DataFrame(columns=('nu','tauv','ratio','g','N','gamma', 'gSteady') )\n",
    "\n",
    "i=0\n",
    "N=1000\n",
    "T = 5000\n",
    "rList = [0.2,0.5,1,2,3]\n",
    "nuList = range(0,200,10)\n",
    "for nu in nuList:\n",
    "    for tauv in [15, 30, 45, 60, 90]:\n",
    "            for ratio in rList:\n",
    "                for g in [10]:\n",
    "                    i+=1\n",
    "                    filename = \"../data/GetGammaSteadyState/GetSteadyState9-tauv-%d_g-%d_N-%d_T-%d_nu-%d_ratio-%.2f\" % (tauv, g, N, T, nu, ratio)\n",
    "                    a = np.load(filename)\n",
    "                    df.loc[i] = [nu, tauv, ratio, g, N, a['gamma'][-1], np.mean(a['gamma'][-100:])]"
   ]
  },
  {
   "cell_type": "code",
   "execution_count": null,
   "metadata": {
    "collapsed": false
   },
   "outputs": [],
   "source": [
    "df.to_csv('gSteady.csv')"
   ]
  },
  {
   "cell_type": "code",
   "execution_count": null,
   "metadata": {
    "collapsed": false
   },
   "outputs": [],
   "source": [
    "getGSteady(15,100,1000)"
   ]
  },
  {
   "cell_type": "code",
   "execution_count": null,
   "metadata": {
    "collapsed": false
   },
   "outputs": [],
   "source": [
    "tauv = 15\n",
    "T = 5000\n",
    "nu = 190\n",
    "\n",
    "for i, ratio in enumerate(rList):\n",
    "    filename = \"../data/GetGammaSteadyState/GetSteadyState9-tauv-%d_g-%d_N-%d_T-%d_nu-%d_ratio-%.2f\" % (tauv, g, N, T, nu, ratio)\n",
    "    a = np.load(filename)\n",
    "    plt.plot(a['gamma'], c='black', alpha=(i+1)/len(rList), label='%.2f'%ratio)\n",
    "plt.legend()"
   ]
  },
  {
   "cell_type": "code",
   "execution_count": null,
   "metadata": {
    "collapsed": false
   },
   "outputs": [],
   "source": [
    "tauv = 15\n",
    "T = 5000\n",
    "ratio = 1\n",
    "for i, nu in enumerate(nuList):\n",
    "    filename = \"../data/GetGammaSteadyState/GetSteadyState9-tauv-%d_g-%d_N-%d_T-%d_nu-%d_ratio-%.2f\" % (tauv, g, N, T, nu, ratio)\n",
    "    a = np.load(filename)\n",
    "    plt.plot(a['gamma'][50:], c='black', alpha=(i+1)/len(nuList))"
   ]
  },
  {
   "cell_type": "code",
   "execution_count": null,
   "metadata": {
    "collapsed": false
   },
   "outputs": [],
   "source": [
    "[df.duplicated()]"
   ]
  },
  {
   "cell_type": "code",
   "execution_count": null,
   "metadata": {
    "collapsed": true
   },
   "outputs": [],
   "source": []
  },
  {
   "cell_type": "code",
   "execution_count": null,
   "metadata": {
    "collapsed": false
   },
   "outputs": [],
   "source": [
    "plotHeatmap(df[df['ratio']==1], col='gamma', x='tauv',y='nu')\n",
    "plotHeatmap(df[df['tauv']==15], col='gamma', x='ratio',y='nu')"
   ]
  },
  {
   "cell_type": "code",
   "execution_count": null,
   "metadata": {
    "collapsed": true
   },
   "outputs": [],
   "source": [
    "def plot(var, title=''):\n",
    "    plt.figure()\n",
    "    plt.plot(var)\n",
    "    plt.title(title)\n",
    "#     plt.xlim([2600,2950])"
   ]
  },
  {
   "cell_type": "code",
   "execution_count": null,
   "metadata": {
    "collapsed": false
   },
   "outputs": [],
   "source": [
    "N, g, tauv, i, nu = 1000, 15,15,0,10\n",
    "T = 5000\n",
    "\n",
    "\n",
    "gpu = TfSingleNet(N=N,\n",
    "                  T=T,\n",
    "                  disp=False,\n",
    "                  tauv=tauv,\n",
    "                  device='/gpu:0',\n",
    "                  spikeMonitor=False,\n",
    "                  g0=g,\n",
    "                  startPlast = 50,\n",
    "                  nu = nu,\n",
    "                  NUM_CORES = 1)\n",
    "# gpu.input = apple\n",
    "print(gpu.lowspthresh)\n",
    "gpu.lowspthresh = 1.5\n",
    "gpu.ratio = 1\n",
    "gpu.FACT = 50\n",
    "gpu.runTFSimul()"
   ]
  },
  {
   "cell_type": "code",
   "execution_count": null,
   "metadata": {
    "collapsed": false
   },
   "outputs": [],
   "source": [
    "# plot(gpu.lowsp[:,0])\n",
    "# plt.plot(gpu.gamma)"
   ]
  },
  {
   "cell_type": "code",
   "execution_count": null,
   "metadata": {
    "collapsed": false
   },
   "outputs": [],
   "source": [
    "plot(gpu.gamma, 'gamma')\n",
    "plot(gpu.vvm, 'spikes')\n",
    "# plot(gpu.bursts/gpu.vvm, 'ratio')\n",
    "# # plot(gpu.vvm, 'spikes')\n",
    "# plot(gpu.iChem, 'ichem')\n",
    "# plot(gpu.iGap, 'igap')\n",
    "# # plot(gpu.im, 'imean')\n",
    "# plot(gpu.vm, 'vm')\n",
    "# plt.ylim([-1000,100])\n",
    "# plot(gpu.um, 'um')\n",
    "# plt.ylim([-1000,100])\n",
    "# # plot(gpu.iEff, 'ieff')"
   ]
  },
  {
   "cell_type": "code",
   "execution_count": null,
   "metadata": {
    "collapsed": false
   },
   "outputs": [],
   "source": [
    "a = np.empty(1e6)"
   ]
  },
  {
   "cell_type": "code",
   "execution_count": null,
   "metadata": {
    "collapsed": true
   },
   "outputs": [],
   "source": [
    "def test(a):\n",
    "    for i in range(1000000): \n",
    "        a[i] = 2*i\n",
    "        \n",
    "def testb():\n",
    "    c = []\n",
    "    for i in range(1,1000000): \n",
    "        c.append(3.14/i)"
   ]
  },
  {
   "cell_type": "code",
   "execution_count": null,
   "metadata": {
    "collapsed": false
   },
   "outputs": [],
   "source": [
    "%timeit test(a)"
   ]
  },
  {
   "cell_type": "code",
   "execution_count": null,
   "metadata": {
    "collapsed": false
   },
   "outputs": [],
   "source": [
    "%timeit testb()"
   ]
  },
  {
   "cell_type": "code",
   "execution_count": null,
   "metadata": {
    "collapsed": true
   },
   "outputs": [],
   "source": []
  }
 ],
 "metadata": {
  "anaconda-cloud": {},
  "kernelspec": {
   "display_name": "Python [Root]",
   "language": "python",
   "name": "Python [Root]"
  },
  "language_info": {
   "codemirror_mode": {
    "name": "ipython",
    "version": 3
   },
   "file_extension": ".py",
   "mimetype": "text/x-python",
   "name": "python",
   "nbconvert_exporter": "python",
   "pygments_lexer": "ipython3",
   "version": "3.5.1"
  }
 },
 "nbformat": 4,
 "nbformat_minor": 0
}
