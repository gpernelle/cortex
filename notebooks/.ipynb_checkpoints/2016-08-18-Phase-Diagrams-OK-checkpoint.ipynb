{
 "cells": [
  {
   "cell_type": "markdown",
   "metadata": {},
   "source": [
    "<h1 id=\"tocheading\">Table of Contents</h1>\n",
    "<div id=\"toc\"></div>"
   ]
  },
  {
   "cell_type": "code",
   "execution_count": 1,
   "metadata": {
    "collapsed": false
   },
   "outputs": [
    {
     "data": {
      "application/javascript": [
       "$.getScript('https://kmahelona.github.io/ipython_notebook_goodies/ipython_notebook_toc.js')"
      ],
      "text/plain": [
       "<IPython.core.display.Javascript object>"
      ]
     },
     "metadata": {},
     "output_type": "display_data"
    }
   ],
   "source": [
    "%%javascript\n",
    "$.getScript('https://kmahelona.github.io/ipython_notebook_goodies/ipython_notebook_toc.js')"
   ]
  },
  {
   "cell_type": "code",
   "execution_count": 2,
   "metadata": {
    "collapsed": true
   },
   "outputs": [],
   "source": [
    "from IO import *"
   ]
  },
  {
   "cell_type": "code",
   "execution_count": 3,
   "metadata": {
    "collapsed": false
   },
   "outputs": [
    {
     "data": {
      "text/html": [
       "\n",
       "    <div class=\"bk-banner\">\n",
       "        <a href=\"http://bokeh.pydata.org\" target=\"_blank\" class=\"bk-logo bk-logo-small bk-logo-notebook\"></a>\n",
       "        <span id=\"fbee9dc3-8b4b-41c3-888f-c96289aeca68\">Loading BokehJS ...</span>\n",
       "    </div>"
      ]
     },
     "metadata": {},
     "output_type": "display_data"
    },
    {
     "data": {
      "application/javascript": [
       "\n",
       "(function(global) {\n",
       "  function now() {\n",
       "    return new Date();\n",
       "  }\n",
       "\n",
       "  if (typeof (window._bokeh_onload_callbacks) === \"undefined\") {\n",
       "    window._bokeh_onload_callbacks = [];\n",
       "  }\n",
       "\n",
       "  function run_callbacks() {\n",
       "    window._bokeh_onload_callbacks.forEach(function(callback) { callback() });\n",
       "    delete window._bokeh_onload_callbacks\n",
       "    console.info(\"Bokeh: all callbacks have finished\");\n",
       "  }\n",
       "\n",
       "  function load_libs(js_urls, callback) {\n",
       "    window._bokeh_onload_callbacks.push(callback);\n",
       "    if (window._bokeh_is_loading > 0) {\n",
       "      console.log(\"Bokeh: BokehJS is being loaded, scheduling callback at\", now());\n",
       "      return null;\n",
       "    }\n",
       "    if (js_urls == null || js_urls.length === 0) {\n",
       "      run_callbacks();\n",
       "      return null;\n",
       "    }\n",
       "    console.log(\"Bokeh: BokehJS not loaded, scheduling load and callback at\", now());\n",
       "    window._bokeh_is_loading = js_urls.length;\n",
       "    for (var i = 0; i < js_urls.length; i++) {\n",
       "      var url = js_urls[i];\n",
       "      var s = document.createElement('script');\n",
       "      s.src = url;\n",
       "      s.async = false;\n",
       "      s.onreadystatechange = s.onload = function() {\n",
       "        window._bokeh_is_loading--;\n",
       "        if (window._bokeh_is_loading === 0) {\n",
       "          console.log(\"Bokeh: all BokehJS libraries loaded\");\n",
       "          run_callbacks()\n",
       "        }\n",
       "      };\n",
       "      s.onerror = function() {\n",
       "        console.warn(\"failed to load library \" + url);\n",
       "      };\n",
       "      console.log(\"Bokeh: injecting script tag for BokehJS library: \", url);\n",
       "      document.getElementsByTagName(\"head\")[0].appendChild(s);\n",
       "    }\n",
       "  };\n",
       "\n",
       "  var js_urls = ['https://cdn.pydata.org/bokeh/release/bokeh-0.11.1.min.js', 'https://cdn.pydata.org/bokeh/release/bokeh-widgets-0.11.1.min.js', 'https://cdn.pydata.org/bokeh/release/bokeh-compiler-0.11.1.min.js'];\n",
       "\n",
       "  var inline_js = [\n",
       "    function(Bokeh) {\n",
       "      Bokeh.set_log_level(\"info\");\n",
       "    },\n",
       "    \n",
       "    function(Bokeh) {\n",
       "      Bokeh.$(\"#fbee9dc3-8b4b-41c3-888f-c96289aeca68\").text(\"BokehJS successfully loaded\");\n",
       "    },\n",
       "    function(Bokeh) {\n",
       "      console.log(\"Bokeh: injecting CSS: https://cdn.pydata.org/bokeh/release/bokeh-0.11.1.min.css\");\n",
       "      Bokeh.embed.inject_css(\"https://cdn.pydata.org/bokeh/release/bokeh-0.11.1.min.css\");\n",
       "      console.log(\"Bokeh: injecting CSS: https://cdn.pydata.org/bokeh/release/bokeh-widgets-0.11.1.min.css\");\n",
       "      Bokeh.embed.inject_css(\"https://cdn.pydata.org/bokeh/release/bokeh-widgets-0.11.1.min.css\");\n",
       "    }\n",
       "  ];\n",
       "\n",
       "  function run_inline_js() {\n",
       "    for (var i = 0; i < inline_js.length; i++) {\n",
       "      inline_js[i](window.Bokeh);\n",
       "    }\n",
       "  }\n",
       "\n",
       "  if (window._bokeh_is_loading === 0) {\n",
       "    console.log(\"Bokeh: BokehJS loaded, going straight to plotting\");\n",
       "    run_inline_js();\n",
       "  } else {\n",
       "    load_libs(js_urls, function() {\n",
       "      console.log(\"Bokeh: BokehJS plotting callback run at\", now());\n",
       "      run_inline_js();\n",
       "    });\n",
       "  }\n",
       "}(this));"
      ]
     },
     "metadata": {},
     "output_type": "display_data"
    }
   ],
   "source": [
    "from IO import *\n",
    "from cycler import cycler\n",
    "import matplotlib as mpl\n",
    "%matplotlib inline\n",
    "from numba import autojit\n",
    "\n",
    "%load_ext autoreload\n",
    "%autoreload 2\n",
    "\n",
    "today = datetime.date.today()\n",
    "todayStr = '%04d%02d%02d' % (today.year, today.month, today.day)\n",
    "# todayStr = '20151005'\n",
    "DIRECTORY = os.path.expanduser(\"~/Dropbox/0000_PhD/figures/\"+todayStr+\"/\")\n",
    "CSV_DIR_TODAY = os.path.expanduser(\"~/Dropbox/0000_PhD/csv/\"+todayStr+\"/\")\n",
    "CSV_DIR = os.path.expanduser(\"~/Dropbox/0000_PhD/csv/\")\n",
    "FIG_DIR = os.path.expanduser(\"~/Dropbox/0000_PhD/figures/\")\n",
    "if not os.path.exists(DIRECTORY):\n",
    "    os.makedirs(DIRECTORY)\n",
    "    \n",
    "from bokeh.io import output_notebook\n",
    "output_notebook()\n",
    "from IPython.display import clear_output, Image, display"
   ]
  },
  {
   "cell_type": "code",
   "execution_count": 4,
   "metadata": {
    "collapsed": true
   },
   "outputs": [],
   "source": [
    "### CODE TO PARSE ARGS\n",
    "# parser = argparse.ArgumentParser()\n",
    "\n",
    "# #-db DATABSE -u USERNAME -p PASSWORD -size 20\n",
    "# parser.add_argument(\"-sWII\", \"--sWII\", help=\"shared Chemical Synapses\", type=int)\n",
    "# parser.add_argument(\"-N\", \"--N\", help=\"number of neurons\", type=int)\n",
    "\n",
    "# args = parser.parse_args()\n",
    "# N = args.N\n",
    "# sWII = args.sWII"
   ]
  },
  {
   "cell_type": "code",
   "execution_count": 5,
   "metadata": {
    "collapsed": false
   },
   "outputs": [
    {
     "data": {
      "application/javascript": [
       "IPython.OutputArea.auto_scroll_threshold = 9999;"
      ],
      "text/plain": [
       "<IPython.core.display.Javascript object>"
      ]
     },
     "metadata": {},
     "output_type": "display_data"
    }
   ],
   "source": [
    "%%javascript\n",
    "IPython.OutputArea.auto_scroll_threshold = 9999;"
   ]
  },
  {
   "cell_type": "code",
   "execution_count": 6,
   "metadata": {
    "collapsed": false
   },
   "outputs": [],
   "source": [
    "# Instantiate classes\n",
    "cortex = Cortex()\n",
    "trn = TRN()\n",
    "gr = GRAPH(cortex)"
   ]
  },
  {
   "cell_type": "code",
   "execution_count": 7,
   "metadata": {
    "collapsed": true
   },
   "outputs": [],
   "source": [
    "# ## #-------------------------------\n",
    "# # # PARAMS SEARCH\n",
    "# # #-------------------------------\n",
    "c = cortex\n",
    "c.N = 400\n",
    "c.g = 10\n",
    "c.d1 = 10\n",
    "c.d2 = 30000\n",
    "c.d3 = 10\n",
    "c.initTime()\n",
    "c.sigma = 60\n",
    "c.WII = 1400 #2800\n",
    "c.S = 100\n",
    "c.model = \"gp-izh-subnetworks\"\n",
    "c.glob = 0\n",
    "c.plast = 1\n",
    "\n",
    "# shared weights\n",
    "c.sG = 10\n",
    "c.sWII = 10\n",
    "\n",
    "c.FACT = 1\n",
    "c.r=0\n",
    "\n",
    "c.ratio = 15\n",
    "c.LTD  = 1e-0*4.7e-6 * c.FACT * c.N\n",
    "c.LTP = c.ratio * c.LTD\n",
    "c.dt = 0.25\n",
    "c.tauv=15\n",
    "\n",
    "# c.with_currents = True\n",
    "\n",
    "# sWIIList = [0,10]\n",
    "# sGList = [0,1,5,10,15,20,25]\n",
    "# sGList = np.arange(0,25,4)\n",
    "# LTDList = [1e-9*4.7e-6 * c.FACT * c.N, 1e-0*4.7e-6 * c.FACT * c.N]\n",
    "# taulist = np.arange(11,95,4)\n"
   ]
  },
  {
   "cell_type": "code",
   "execution_count": null,
   "metadata": {
    "collapsed": false
   },
   "outputs": [],
   "source": [
    "# c = cortex\n",
    "# c.with_currents = True\n",
    "# c.N = 400\n",
    "# c.g = 10\n",
    "# c.d1 = 10\n",
    "# c.d2 = 30000\n",
    "# c.d3 = 10\n",
    "# c.T = c.d1+c.d2+c.d3\n",
    "# c.tauv = 45\n",
    "# c.sG=0\n",
    "# c.sWII=10\n",
    "# c.dt=0.25\n",
    "# c.r=0\n",
    "# c.BOTH=1\n",
    "# c.runSimulation(tauv=c.tauv)\n",
    "# c.readSimulation()\n",
    "# gr.plotWeights(tauv=c.tauv)"
   ]
  },
  {
   "cell_type": "code",
   "execution_count": null,
   "metadata": {
    "collapsed": false
   },
   "outputs": [
    {
     "name": "stdout",
     "output_type": "stream",
     "text": [
      "./cortex -N 400 -ext _0.txt -d1 10 -d2 30000 -d3 10 -before 10 -after 30010 -S 100 -G 10 -s 60 -WII 1400 -LTP 0.0282 -LTD 0.00188 -model gp-izh-subnetworks -r 0 -global 0 -sG 30 -sWII 10 -tauv 45 -plast 1 -both 1\n"
     ]
    }
   ],
   "source": [
    "c = cortex\n",
    "c.with_currents = True\n",
    "c.N = 400\n",
    "c.g = 10\n",
    "c.d1 = 10\n",
    "c.d2 = 30000\n",
    "c.d3 = 10\n",
    "c.T = c.d1+c.d2+c.d3\n",
    "c.tauv = 45\n",
    "c.sG= 30\n",
    "c.sWII=10\n",
    "c.dt=0.25\n",
    "c.r=0\n",
    "c.BOTH=1\n",
    "c.plast = 1\n",
    "c.runSimulation(tauv=c.tauv)\n",
    "c.readSimulation()\n",
    "gr.plotWeights(tauv=c.tauv)"
   ]
  },
  {
   "cell_type": "code",
   "execution_count": null,
   "metadata": {
    "collapsed": false
   },
   "outputs": [],
   "source": [
    "### no plasticity\n",
    "c = cortex\n",
    "c.with_currents = True\n",
    "c.N = 400\n",
    "c.g = 10\n",
    "c.d1 = 10\n",
    "c.d2 = 30000\n",
    "c.d3 = 10\n",
    "c.T = c.d1+c.d2+c.d3\n",
    "c.tauv = 45\n",
    "c.sG= 30\n",
    "c.sWII=10\n",
    "c.dt=0.25\n",
    "c.r=0\n",
    "c.BOTH=1\n",
    "c.plast = 0\n",
    "c.LTD  = 1e-9*4.7e-6 * c.FACT * c.N\n",
    "c.LTP = c.ratio * c.LTD\n",
    "# c.runSimulation(tauv=c.tauv)\n",
    "c.readSimulation()\n",
    "gr.plotWeights(tauv=c.tauv)"
   ]
  },
  {
   "cell_type": "code",
   "execution_count": null,
   "metadata": {
    "collapsed": false
   },
   "outputs": [],
   "source": [
    "c.N = 400"
   ]
  },
  {
   "cell_type": "code",
   "execution_count": null,
   "metadata": {
    "collapsed": false
   },
   "outputs": [],
   "source": [
    "# gr.plotRaster(c.spikes_x[0:10000], c.spikes_y[0:10000])"
   ]
  },
  {
   "cell_type": "markdown",
   "metadata": {},
   "source": [
    "-1   1\n",
    "\n",
    "-2   2"
   ]
  },
  {
   "cell_type": "markdown",
   "metadata": {},
   "source": [
    "## READ CSV DATA"
   ]
  },
  {
   "cell_type": "code",
   "execution_count": null,
   "metadata": {
    "collapsed": false
   },
   "outputs": [],
   "source": [
    "# df = pd.read_csv('/Users/GP1514/Dropbox/0000 - PhD/figures/20160628/' + 'df-plast-ok2.csv')\n",
    "columns = ['tauv', 'd2','sWII', 'sG', 'LTD',\n",
    "                             'maxBegin', 'argmaxBegin', 'maxEnd', 'argmaxEnd',\n",
    "                            'f1Begin', 'p1Begin', 'f2Begin', 'p2Begin', \n",
    "                             'f1End', 'p1End', 'f2End', 'p2End', \n",
    "                             'fBothBegin', 'pBothBegin', 'fBothEnd', 'pBothEnd',\n",
    "                               '_gn1', '_gn2', 'gnshared_', '_initmean',\n",
    "                               '_gnmean1', '_gnmean2', 'gnmeanshared_',\n",
    "                                'gn1', 'gn2', 'gnshared',\n",
    "                               'gnmean1', 'gnmean2', 'gnmeanshared',\n",
    "                           'key']\n",
    "\n",
    "columns = ['tauv', 'd2','sWII', 'sG', 'LTD',\n",
    "                             'maxBegin', 'argmaxBegin', 'maxEnd', 'argmaxEnd',\n",
    "                            'fBegin1', 'pBegin1', 'fBegin2', 'pBegin2', \n",
    "                             'fEnd1', 'pEnd1', 'fEnd2', 'pEnd2', \n",
    "                             'fBothBegin', 'pBothBegin', 'fBothEnd', 'pBothEnd',\n",
    "                               '_gn1', '_gn2', 'gnshared_', '_initmean',\n",
    "                               '_gnmean1', '_gnmean2', 'gnmeanshared_',\n",
    "                                'gn1', 'gn2', 'gnshared',\n",
    "                               'gnmean1', 'gnmean2', 'gnmeanshared',\n",
    "                           'key']\n",
    "# df2 = pd.read_csv(CSV_DIR + 'with_plast-ok-t30-N100.csv', names=columns)\n",
    "day = 20160701\n",
    "sWII = 10\n",
    "c.sWII = sWII\n",
    "df2 = pd.read_csv('%s%s/with_plast-ok-t30-N100.csv' % (CSV_DIR, day), names=columns)\n",
    "day = 20160818\n",
    "if c.N == 400:\n",
    "    df = pd.read_csv('%s%s/with_plast-T30-N400-ok_1471532256.csv' % (CSV_DIR, day), names=columns)\n",
    "#     df = pd.read_csv('%s%s/with_plast-T30-N400-ok_1467798040.csv' % (CSV_DIR, day), names=columns)\n",
    "else:\n",
    "    df = pd.read_csv('%s%s/with_plast-T30-N100-ok_1467798950.csv' % (CSV_DIR, day), names=columns)\n",
    "    \n",
    "\n",
    "for letter in ['f','p']:\n",
    "    for val in [1,2]:\n",
    "        for state in ['Begin', 'End']:\n",
    "            df[letter+str(val)+state] = df[letter+state+str(val)]"
   ]
  },
  {
   "cell_type": "code",
   "execution_count": null,
   "metadata": {
    "collapsed": true
   },
   "outputs": [],
   "source": []
  },
  {
   "cell_type": "code",
   "execution_count": null,
   "metadata": {
    "collapsed": false
   },
   "outputs": [],
   "source": [
    "# df2.sort(columns=['tauv','sWII','sG','LTD']).head()"
   ]
  },
  {
   "cell_type": "code",
   "execution_count": null,
   "metadata": {
    "collapsed": false
   },
   "outputs": [],
   "source": [
    "\n",
    "# dfplast['pChange1'] = (np.array(dfplast['pEnd1'])/np.array(dfnoplast['pEnd1']))\n",
    "# dfplast['pChange1'].head()"
   ]
  },
  {
   "cell_type": "code",
   "execution_count": null,
   "metadata": {
    "collapsed": false
   },
   "outputs": [],
   "source": [
    "N = c.N\n",
    "# df['pChange1'] = df['pEnd1']/df['pBegin1']\n",
    "# df['pChange2'] = df['pEnd2']/df['pBegin2']\n",
    "# df['fChange1'] = df['fEnd1']/df['fBegin1']\n",
    "# df['fChange2'] = df['fEnd2']/df['fBegin2']\n",
    "df = df[(df['tauv']>13) & (df['sWII']==sWII) ]\n",
    "dfplast = df[(df['LTD']==True)]\n",
    "dfnoplast = df[(df['LTD']==False)]\n",
    "dfplast = dfplast.sort_values(['tauv','sWII','sG','LTD'])\n",
    "dfnoplast = dfnoplast.sort_values(['tauv','sWII','sG','LTD'])\n",
    "\n",
    "\n",
    "for val in ['p', 'f']:\n",
    "    dfplast[val + 'Change1'] = np.array(dfplast[val+ 'End1'])/np.array(dfnoplast[ val + 'End1'])\n",
    "    dfplast[val + 'Change2'] = np.array(dfplast[val+ 'End2'])/np.array(dfnoplast[ val + 'End2'])\n",
    "#     dfplast[val+'Change1']=df[val+'Change1']\n",
    "#     dfplast[val+'Change2']=df[val+'Change2']\n",
    "\n",
    "dfplast.head()\n",
    "# df.head()"
   ]
  },
  {
   "cell_type": "markdown",
   "metadata": {},
   "source": [
    "## CSD"
   ]
  },
  {
   "cell_type": "code",
   "execution_count": null,
   "metadata": {
    "collapsed": false,
    "run_control": {
     "marked": true
    },
    "scrolled": false
   },
   "outputs": [],
   "source": [
    "c.figsize31=(18,5)\n",
    "def plotCoherenceEvolution(dataframe, kind='max', sWII=10,\n",
    "                           vmin = None, vmax=None):\n",
    "    fig = plt.figure(figsize=gr.figsize21)\n",
    "\n",
    "    df = dataframe\n",
    "    df1 = df[(df['LTD'] == False) & (df['sWII'] == sWII)]\n",
    "    df2 = df[(df['LTD'] == True) & (df['sWII'] == sWII)]\n",
    "    extent = [np.min(df1['sG']), np.max(df1['sG']), np.min(df1['tauv']), np.max(df1['tauv'])]\n",
    "\n",
    "    ax1 = fig.add_subplot(121)\n",
    "    ax2 = fig.add_subplot(122)\n",
    "\n",
    "    cmap = gr.cmap_level\n",
    "    if vmax is None:\n",
    "        if kind == 'max':\n",
    "            vmin = min(list(map(np.min, [df.maxBegin, df.maxEnd])))\n",
    "            vmax = max(list(map(np.max, [df.maxBegin, df.maxEnd])))\n",
    "        elif kind == 'argmax':\n",
    "            vmin = min(list(map(np.min, [df.argmaxBegin, df.argmaxEnd])))\n",
    "            vmax = max(list(map(np.max, [df.argmaxBegin, df.argmaxEnd])))\n",
    "        elif kind == 'fBoth':\n",
    "            vmin = min(list(map(np.min, [df.fBothBegin, df.fBothEnd])))\n",
    "            vmax = max(list(map(np.max, [df.fBothBegin, df.fBothEnd])))\n",
    "        elif kind == 'pBoth':\n",
    "            vmin = min(list(map(np.min, [df.pBothBegin, df.pBothEnd])))\n",
    "            vmax = max(list(map(np.max, [df.pBothBegin, df.pBothEnd])))\n",
    "\n",
    "    title = r'No plasticity'\n",
    "    column = kind + 'End'\n",
    "    filename = column + '%s' % gr.ext\n",
    "    ax1, im = gr.plotDiagramCSD(fig, ax1, df1, title, column, filename, extent=extent, cmap=cmap,\n",
    "                                vmin=vmin, vmax=vmax)\n",
    "\n",
    "    title = r'Plasticity'\n",
    "    column = kind + 'End'\n",
    "    filename = column + '%s' % gr.ext\n",
    "    ax2, im = gr.plotDiagramCSD(fig, ax2, df2, title, column, filename, extent=extent, cmap=cmap,\n",
    "                                vmin=vmin, vmax=vmax)\n",
    "\n",
    "    ax2.set_yticks([])\n",
    "    ax2.set_ylabel('')\n",
    "\n",
    "    fig.subplots_adjust(right=0.8)\n",
    "    cbar_ax = fig.add_axes(gr.axes21)\n",
    "    fig.colorbar(im, cax=cbar_ax)\n",
    "\n",
    "    plt.savefig(DIRECTORY + kind + '_comparison_plast%s' % (gr.ext))\n",
    "    return 0"
   ]
  },
  {
   "cell_type": "code",
   "execution_count": null,
   "metadata": {
    "collapsed": true
   },
   "outputs": [],
   "source": [
    "gr = GRAPH(cortex)\n",
    "plotCoherenceEvolution(df, kind='max', sWII=sWII, vmin=10, vmax=350)\n",
    "gr.figsize11 = (5.2,5)\n",
    "gr.plotChangePlast(df, 'max', title='Change of CSD power', sWII=10, vmax=2)"
   ]
  },
  {
   "cell_type": "code",
   "execution_count": null,
   "metadata": {
    "collapsed": false
   },
   "outputs": [],
   "source": [
    "gr = GRAPH(cortex)\n",
    "plotCoherenceEvolution(df, kind='argmax', sWII=sWII)\n",
    "gr.figsize11 = (5.2,5)\n",
    "gr.plotChangePlast(df, 'argmax', title='Change of Phase Shift', sWII=10)"
   ]
  },
  {
   "cell_type": "code",
   "execution_count": null,
   "metadata": {
    "collapsed": false
   },
   "outputs": [],
   "source": [
    "#create new SVG figure\n",
    "fig = sg.SVGFigure(\"15cm\", \"7cm\")\n",
    "# load matpotlib-generated figures\n",
    "fig1 = sg.fromfile(FIG_DIR + str(todayStr) + '/max_comparison_plast_%d_%d.svg'%(sWII,N))\n",
    "fig2 = sg.fromfile(FIG_DIR + str(todayStr) + '/max_changePLAST_cluster_%d_%d.svg'%(sWII,N))\n",
    "# get the plot objects\n",
    "scale = 0.45\n",
    "plot1 = fig1.getroot()\n",
    "plot1.moveto(0,10,scale= scale)\n",
    "plot2 = fig2.getroot()\n",
    "plot2.moveto(350, 10, scale = scale)\n",
    "# add text labels\n",
    "txt1 = sg.TextElement(5,30, \"A\", size=12, weight=\"bold\")\n",
    "plast = sg.TextElement(75,10, \"No Plasticity\", size=12, weight=\"normal\")\n",
    "noplast = sg.TextElement(200,10, \"Plasticity\", size=12, weight=\"normal\")\n",
    "txt2 = sg.TextElement(120,30, \"B\", size=12, weight=\"bold\")\n",
    "txt3 = sg.TextElement(350,30, \"C\", size=12, weight=\"bold\")\n",
    "# append plots and labels to figure\n",
    "fig.append([plot1, plot2])\n",
    "# fig.append([txt1, txt2, txt3, plast, noplast])\n",
    "# save generated SVG files\n",
    "fig.save(DIRECTORY + \"CSD_%d_%d.svg\"%(sWII,N))\n",
    "svg2pdf('CSD_%d_%d'%(sWII,N),DIRECTORY)"
   ]
  },
  {
   "cell_type": "code",
   "execution_count": null,
   "metadata": {
    "collapsed": true
   },
   "outputs": [],
   "source": [
    "#create new SVG figure\n",
    "fig = sg.SVGFigure(\"15cm\", \"7cm\")\n",
    "# load matpotlib-generated figures\n",
    "fig1 = sg.fromfile(FIG_DIR + str(todayStr) + '/argmax_comparison_plast_%d_%d.svg'%(sWII,N))\n",
    "fig2 = sg.fromfile(FIG_DIR + str(todayStr) + '/argmax_changePLAST_cluster_%d_%d.svg'%(sWII,N))\n",
    "# get the plot objects\n",
    "scale = 0.45\n",
    "plot1 = fig1.getroot()\n",
    "plot1.moveto(0,10,scale= scale)\n",
    "plot2 = fig2.getroot()\n",
    "plot2.moveto(350, 10, scale = scale)\n",
    "# add text labels\n",
    "txt1 = sg.TextElement(5,30, \"A\", size=12, weight=\"bold\")\n",
    "plast = sg.TextElement(75,10, \"No Plasticity\", size=12, weight=\"normal\")\n",
    "noplast = sg.TextElement(200,10, \"Plasticity\", size=12, weight=\"normal\")\n",
    "txt2 = sg.TextElement(120,30, \"B\", size=12, weight=\"bold\")\n",
    "txt3 = sg.TextElement(350,30, \"C\", size=12, weight=\"bold\")\n",
    "# append plots and labels to figure\n",
    "fig.append([plot1, plot2])\n",
    "# fig.append([txt1, txt2, txt3, plast, noplast])\n",
    "# save generated SVG files\n",
    "fig.save(DIRECTORY + \"phaseshift_%d_%d.svg\"%(sWII,N))\n",
    "svg2pdf('phaseshift_%d_%d'%(sWII,N),DIRECTORY)"
   ]
  },
  {
   "cell_type": "code",
   "execution_count": null,
   "metadata": {
    "collapsed": false
   },
   "outputs": [],
   "source": [
    "x = np.arange(0,1,0.001)\n",
    "a = np.cos(2*np.pi*30*x)\n",
    "b = np.cos(2*np.pi*30*x+30)\n",
    "\n",
    "plt.plot(a)\n",
    "plt.plot(b)\n",
    "plt.xlim([0,100])\n",
    "A = np.fft.fft(a)\n",
    "B = np.fft.fft(b)\n",
    "plt.figure()\n",
    "plt.plot(x, np.abs(A))\n",
    "plt.plot(x, np.abs(B))\n",
    "# plt.figure()\n",
    "c = np.fft.ifft(A * np.conj(B))\n",
    "time_shift = np.argmax(abs(c))\n",
    "print(time_shift)\n",
    "\n"
   ]
  },
  {
   "cell_type": "markdown",
   "metadata": {},
   "source": [
    "## Subnetwork Frequencies"
   ]
  },
  {
   "cell_type": "code",
   "execution_count": null,
   "metadata": {
    "collapsed": false
   },
   "outputs": [],
   "source": [
    "gr= GRAPH(cortex)\n",
    "gr.plotEvolution(dfplast, kind = 'frequency', LTD=True, vmin = 25, vmax=60, sWII = sWII)\n",
    "gr.plotEvolution(dfnoplast, kind = 'frequency', LTD=False, vmin = 25 ,vmax=60, sWII=sWII)"
   ]
  },
  {
   "cell_type": "code",
   "execution_count": null,
   "metadata": {
    "collapsed": false,
    "scrolled": false
   },
   "outputs": [],
   "source": [
    "gr=GRAPH(cortex)\n",
    "gr.plotEvolution(dfplast, kind='power', LTD=True, sWII=sWII)\n",
    "gr.plotEvolution(dfnoplast, kind='power', LTD=False, sWII=sWII)"
   ]
  },
  {
   "cell_type": "markdown",
   "metadata": {},
   "source": [
    "## CSD"
   ]
  },
  {
   "cell_type": "code",
   "execution_count": null,
   "metadata": {
    "collapsed": false
   },
   "outputs": [],
   "source": [
    "gr = GRAPH(cortex)\n",
    "gr.plotCoherenceEvolution(df, kind='max', LTD=True, sWII=sWII, vmin=10, vmax=350)\n",
    "gr.plotCoherenceEvolution(df, kind='max', LTD=False, sWII=sWII, vmin=10, vmax=350)\n"
   ]
  },
  {
   "cell_type": "code",
   "execution_count": null,
   "metadata": {
    "collapsed": false
   },
   "outputs": [],
   "source": [
    "gr.plotCoherenceEvolution(df, kind='argmax', LTD=True,sWII=sWII)\n",
    "gr.plotCoherenceEvolution(df, kind='argmax', LTD=False,sWII=sWII)"
   ]
  },
  {
   "cell_type": "code",
   "execution_count": null,
   "metadata": {
    "collapsed": false
   },
   "outputs": [],
   "source": [
    "gr = GRAPH(cortex)\n",
    "gr.plotCoherenceEvolution(df, kind='fBoth', LTD=True, sWII = sWII, \n",
    "                         vmax=dfplast['fBothEnd'].max(), vmin=dfplast['fBothEnd'].min())\n",
    "gr.plotCoherenceEvolution(df, kind='fBoth', LTD=False, sWII = sWII,\n",
    "                          vmax=dfplast['fBothEnd'].max(), vmin=dfplast['fBothEnd'].min())\n",
    "\n",
    "gr.plotCoherenceEvolution(df, kind='pBoth', LTD=True, sWII = sWII,\n",
    "                         vmax=dfplast['pBothEnd'].max(), vmin=dfplast['pBothEnd'].min())\n",
    "gr.plotCoherenceEvolution(df, kind='pBoth', LTD=False, sWII = sWII, \n",
    "                          vmax=dfplast['pBothEnd'].max(), vmin=dfplast['pBothEnd'].min())"
   ]
  },
  {
   "cell_type": "code",
   "execution_count": null,
   "metadata": {
    "collapsed": false
   },
   "outputs": [],
   "source": []
  },
  {
   "cell_type": "code",
   "execution_count": null,
   "metadata": {
    "collapsed": false
   },
   "outputs": [],
   "source": [
    "gr = GRAPH(cortex)\n",
    "gr.plotChange2(df, 'f', 'N1', both=True, title='Change of oscillation frequency', sWII=sWII, LTD=True)\n",
    "gr.plotChange2(df, 'p', 'N1', both=True, title='Change of subnetwork coherence', sWII=sWII)\n",
    "# plotChange('f1', 'N1')\n",
    "# plotChange('f1', 'N1', both=True)\n",
    "# plotChange('f2', 'N2', both=True)\n",
    "# plotChange('p1', 'N1', both=True)\n",
    "# plotChange('p2', 'N2', both=True)"
   ]
  },
  {
   "cell_type": "markdown",
   "metadata": {},
   "source": [
    "## CSD BEFORE AFTER"
   ]
  },
  {
   "cell_type": "code",
   "execution_count": null,
   "metadata": {
    "collapsed": false
   },
   "outputs": [],
   "source": [
    "gr = GRAPH(cortex)\n",
    "# power\n",
    "gr.plotChange(df, 'max', title=\"Change of coherence between both networks\", sWII=sWII, LTD=True)\n",
    "gr.plotChange(df, 'max', title=\"Change of coherence between both networks\", sWII=sWII, LTD=False)\n",
    "# freq\n",
    "# gr.plotChange(df, 'argmax', title=\"Change of frequency between both networks\", sWII=sWII, LTD=True)\n",
    "# gr.plotChange(df, 'argmax', title=\"Change of frequency between both networks\", sWII=sWII, LTD=False)"
   ]
  },
  {
   "cell_type": "markdown",
   "metadata": {},
   "source": [
    "## FOURIER (i1+i2) BEFORE AFTER"
   ]
  },
  {
   "cell_type": "code",
   "execution_count": null,
   "metadata": {
    "collapsed": false,
    "run_control": {
     "marked": false
    }
   },
   "outputs": [],
   "source": [
    "# power\n",
    "gr.plotChange(df, 'pBoth', title=\"Change of full internetwork coherence_plast\", LTD=True, sWII=sWII)\n",
    "gr.plotChange(df, 'pBoth', title=\"Change of full internetwork coherence_noplast\", LTD=False, sWII =sWII)\n",
    "# freq\n",
    "gr.plotChange(df, 'fBoth', title=\"Change of full internetwork frequency_plast\", LTD=True, sWII = sWII)\n",
    "gr.plotChange(df, 'fBoth', title=\"Change of full internetwork frequency_noplast\", LTD=False, sWII = sWII)"
   ]
  },
  {
   "cell_type": "markdown",
   "metadata": {},
   "source": [
    "## Plot difference between with and without plasticity"
   ]
  },
  {
   "cell_type": "code",
   "execution_count": null,
   "metadata": {
    "collapsed": false
   },
   "outputs": [],
   "source": [
    "gr.plotChangePlast2(df, 'f', 'N1', both=True, title='f_changeplast', sWII=sWII)\n",
    "plt.savefig(DIRECTORY+'f_changeplast_%d_%d.svg'%(sWII,N))\n",
    "plt.figure()\n",
    "gr.plotChangePlast2(df, 'p', 'N1', both=True, title='p_changeplast', sWII=sWII)\n",
    "plt.savefig(DIRECTORY+'p_changeplast_%d_%d.svg'%(sWII,N))\n"
   ]
  },
  {
   "cell_type": "code",
   "execution_count": null,
   "metadata": {
    "collapsed": false
   },
   "outputs": [],
   "source": [
    "gr = GRAPH(cortex)\n",
    "gr.plotChangePlast(df, 'max', title='Change of CSD power', sWII=10, vmax=2)\n",
    "gr.plotChangePlast(df, 'argmax', title='Change of CSD main frequency', sWII=10)\n",
    "gr.plotChangePlast(df, 'fBoth', title='Change of oscillation frequency fBoth', sWII=sWII)\n",
    "# plt.savefig(DIRECTORY+'change_of_fBoth_plast_vs_noplast.pdf')\n",
    "plt.figure()\n",
    "gr.plotChangePlast(df, 'pBoth', title='Change of subnetwork coherence pBoth', sWII=sWII)\n",
    "# plt.savefig(DIRECTORY+'change_of_pBoth_plast_vs_noplast.pdf')\n"
   ]
  },
  {
   "cell_type": "code",
   "execution_count": null,
   "metadata": {
    "collapsed": false
   },
   "outputs": [],
   "source": [
    "# c = cortex\n",
    "# c.with_currents = True\n",
    "# c.N = 300\n",
    "# c.g = 10\n",
    "# c.d1 = 10\n",
    "# c.d2 = 1012\n",
    "# c.d3 = 10\n",
    "# c.T = 1020\n",
    "# c.tauv = 15\n",
    "# c.sG=20\n",
    "# c.sWII=0\n",
    "# c.dt=0.25\n",
    "# c.runSimulation(tauv=c.tauv)\n",
    "# c.readSimulation()\n",
    "# gr.plotWeights(tauv=c.tauv)"
   ]
  },
  {
   "cell_type": "code",
   "execution_count": null,
   "metadata": {
    "collapsed": false
   },
   "outputs": [],
   "source": [
    "# t0 = t.time()\n",
    "\n",
    "# c.runSimulation(tauv=c.tauv)\n",
    "# print(t.time()-t0)"
   ]
  },
  {
   "cell_type": "code",
   "execution_count": null,
   "metadata": {
    "collapsed": false
   },
   "outputs": [],
   "source": [
    "# c.readSimulation()\n",
    "# plt.plot(c.voltage)"
   ]
  },
  {
   "cell_type": "code",
   "execution_count": null,
   "metadata": {
    "collapsed": false
   },
   "outputs": [],
   "source": [
    "# c.dt = 0.25\n",
    "# c.N = 400\n",
    "# c.g = 10\n",
    "# c.d1 = 10\n",
    "# c.d2 = 30000\n",
    "# c.d3 = 10\n",
    "# c.initTime()\n",
    "# c.sigma = 60\n",
    "# c.WII = 1400 #2800\n",
    "# c.S = 100\n",
    "# c.model = \"gp-izh-subnetworks\"\n",
    "# c.glob = 0\n",
    "\n",
    "# # shared weights\n",
    "# c.sG = 10\n",
    "# c.sWII = 10\n",
    "\n",
    "# c.FACT = 1\n",
    "# c.r=0\n",
    "\n",
    "# c.ratio = 15\n",
    "# c.LTD  = 1e-0*4.7e-6 * c.FACT * c.N\n",
    "# c.LTP = c.ratio * c.LTD\n",
    "\n",
    "# c.tauv=15\n",
    "\n",
    "# c.with_currents = True\n",
    "\n",
    "# # for S in np.arange(50,400,50):\n",
    "# #     Parallel(n_jobs=8)(delayed(cortex.runSimulation)(N,0, G, S, d1, d2, d3, before, after, sigma, \\\n",
    "# # WII, LTP, LTD) for G in np.linspace(1,9,\"8))\n",
    "\n",
    "# sWIIList = [0,10]\n",
    "# sGList = [0,1,5,10,15,20,25]\n",
    "# sGList = np.arange(0,25,4)\n",
    "# LTDList = [1e-9*4.7e-6 * c.FACT * c.N, 1e-0*4.7e-6 * c.FACT * c.N]\n",
    "# taulist = np.arange(11,95,4)\n",
    "# c.LTD = LTDList[0]\n",
    "# c.sG = sGList[0]\n",
    "# c.LTP = c.ratio * c.LTD\n",
    "# c.readSimulation()"
   ]
  },
  {
   "cell_type": "code",
   "execution_count": null,
   "metadata": {
    "collapsed": false
   },
   "outputs": [],
   "source": [
    "# dfnoplast['fBothEnd'].var()"
   ]
  },
  {
   "cell_type": "code",
   "execution_count": null,
   "metadata": {
    "collapsed": false
   },
   "outputs": [],
   "source": [
    "# c.d2 = 10000\n",
    "# c.N = 50\n",
    "# c.after = 1000\n",
    "# c.dt=0.25\n",
    "# c.LTD = LTDList[1]*10\n",
    "# c.LTP = c.LTD * c.ratio\n",
    "# c.T = c.d1+c.d2+c.d3\n",
    "# c.runSimulation()"
   ]
  },
  {
   "cell_type": "code",
   "execution_count": null,
   "metadata": {
    "collapsed": false
   },
   "outputs": [],
   "source": [
    "# c.readSimulation()\n",
    "# c.gammaN1[-10:]"
   ]
  },
  {
   "cell_type": "markdown",
   "metadata": {},
   "source": [
    "## PLOT DIAGRAM + PLAST COMPARISON FOR COHERENCE"
   ]
  },
  {
   "cell_type": "code",
   "execution_count": null,
   "metadata": {
    "collapsed": false
   },
   "outputs": [],
   "source": [
    "\n",
    "\n",
    "#create new SVG figure\n",
    "fig = sg.SVGFigure(\"20cm\", \"7cm\")\n",
    "\n",
    "# load matpotlib-generated figures\n",
    "fig1 = sg.fromfile(FIG_DIR + str(todayStr) + '/power_clusterTrue_%d_%d.svg'%(sWII,N))\n",
    "fig2 = sg.fromfile(FIG_DIR + str(todayStr) + '/power_clusterFalse_%d_%d.svg'%(sWII,N))\n",
    "fig3 = sg.fromfile(FIG_DIR + str(todayStr) + '/p_changeplast_%d_%d.svg'%(sWII,N))\n",
    "\n",
    "# get the plot objects\n",
    "scale = 0.45\n",
    "plot1 = fig1.getroot()\n",
    "plot1.moveto(0,10,scale= scale)\n",
    "plot2 = fig2.getroot()\n",
    "plot2.moveto(280, 10, scale = scale)\n",
    "plot3 = fig3.getroot()\n",
    "plot3.moveto(560, 20, scale = scale*0.95)\n",
    "\n",
    "# add text labels\n",
    "txt1 = sg.TextElement(5,30, \"A\", size=12, weight=\"bold\")\n",
    "plast = sg.TextElement(75,10, \"Plasticity\", size=12, weight=\"normal\")\n",
    "noplast = sg.TextElement(350,10, \"No plasticity\", size=12, weight=\"normal\")\n",
    "txt2 = sg.TextElement(285,30, \"B\", size=12, weight=\"bold\")\n",
    "txt3 = sg.TextElement(560,30, \"C\", size=12, weight=\"bold\")\n",
    "\n",
    "# append plots and labels to figure\n",
    "fig.append([plot1, plot2, plot3])\n",
    "fig.append([txt1, txt2, txt3, plast, noplast])\n",
    "\n",
    "# save generated SVG files\n",
    "fig.save(DIRECTORY + \"powercluster_%d_%d.svg\"%(sWII,N))\n",
    "svg2pdf('powercluster_%d_%d'%(sWII,N),DIRECTORY)\n",
    "\n"
   ]
  },
  {
   "cell_type": "markdown",
   "metadata": {},
   "source": [
    "## PLOT CSD CHANGE"
   ]
  },
  {
   "cell_type": "code",
   "execution_count": null,
   "metadata": {
    "collapsed": true
   },
   "outputs": [],
   "source": [
    "\n",
    "\n",
    "#create new SVG figure\n",
    "fig = sg.SVGFigure(\"20cm\", \"7cm\")\n",
    "\n",
    "# load matpotlib-generated figures\n",
    "fig1 = sg.fromfile(FIG_DIR + str(todayStr) + '/power_clusterTrue_%d_%d.svg'%(sWII,N))\n",
    "fig2 = sg.fromfile(FIG_DIR + str(todayStr) + '/power_clusterFalse_%d_%d.svg'%(sWII,N))\n",
    "fig3 = sg.fromfile(FIG_DIR + str(todayStr) + '/p_changeplast_%d_%d.svg'%(sWII,N))\n",
    "\n",
    "# get the plot objects\n",
    "scale = 0.45\n",
    "plot1 = fig1.getroot()\n",
    "plot1.moveto(0,10,scale= scale)\n",
    "plot2 = fig2.getroot()\n",
    "plot2.moveto(280, 10, scale = scale)\n",
    "plot3 = fig3.getroot()\n",
    "plot3.moveto(560, 20, scale = scale*0.95)\n",
    "\n",
    "# add text labels\n",
    "txt1 = sg.TextElement(5,30, \"A\", size=12, weight=\"bold\")\n",
    "plast = sg.TextElement(75,10, \"Plasticity\", size=12, weight=\"normal\")\n",
    "noplast = sg.TextElement(350,10, \"No plasticity\", size=12, weight=\"normal\")\n",
    "txt2 = sg.TextElement(285,30, \"B\", size=12, weight=\"bold\")\n",
    "txt3 = sg.TextElement(560,30, \"C\", size=12, weight=\"bold\")\n",
    "\n",
    "# append plots and labels to figure\n",
    "fig.append([plot1, plot2, plot3])\n",
    "fig.append([txt1, txt2, txt3, plast, noplast])\n",
    "\n",
    "# save generated SVG files\n",
    "fig.save(DIRECTORY + \"powercluster_%d_%d.svg\"%(sWII,N))\n",
    "svg2pdf('powercluster_%d_%d'%(sWII,N),DIRECTORY)\n"
   ]
  },
  {
   "cell_type": "markdown",
   "metadata": {},
   "source": [
    "## PLOT DIAGRAM + PLAST COMPARISON FOR FREQUENCY"
   ]
  },
  {
   "cell_type": "code",
   "execution_count": null,
   "metadata": {
    "collapsed": false
   },
   "outputs": [],
   "source": [
    "#create new SVG figure\n",
    "fig = sg.SVGFigure(\"20cm\", \"10cm\")\n",
    "\n",
    "# load matpotlib-generated figures\n",
    "fig1 = sg.fromfile(FIG_DIR + str(todayStr) + '/frequency_clusterTrue_%d_%d.svg'%(sWII,N))\n",
    "fig2 = sg.fromfile(FIG_DIR + str(todayStr) + '/frequency_clusterFalse_%d_%d.svg'%(sWII,N))\n",
    "fig3 = sg.fromfile(FIG_DIR + str(todayStr) + '/f_changeplast_%d_%d.svg'%(sWII,N))\n",
    "\n",
    "# get the plot objects\n",
    "scale = 0.45\n",
    "plot1 = fig1.getroot()\n",
    "plot1.moveto(0,10,scale= scale)\n",
    "plot2 = fig2.getroot()\n",
    "plot2.moveto(280, 10, scale = scale)\n",
    "plot3 = fig3.getroot()\n",
    "plot3.moveto(560, 20, scale = scale*0.95)\n",
    "\n",
    "# add text labels\n",
    "txt1 = sg.TextElement(5,30, \"A\", size=12, weight=\"bold\")\n",
    "plast = sg.TextElement(75,10, \"Plasticity\", size=12, weight=\"normal\")\n",
    "noplast = sg.TextElement(350,10, \"No plasticity\", size=12, weight=\"normal\")\n",
    "txt2 = sg.TextElement(285,30, \"B\", size=12, weight=\"bold\")\n",
    "txt3 = sg.TextElement(560,30, \"C\", size=12, weight=\"bold\")\n",
    "\n",
    "# append plots and labels to figure\n",
    "fig.append([plot1, plot2, plot3])\n",
    "fig.append([txt1, txt2, txt3, plast, noplast])\n",
    "\n",
    "# save generated SVG files\n",
    "fig.save(DIRECTORY + 'freqcluster_%d_%d.svg'%(sWII,N))\n",
    "svg2pdf('freqcluster_%d_%d'%(sWII,N),DIRECTORY)"
   ]
  },
  {
   "cell_type": "markdown",
   "metadata": {},
   "source": [
    "## PLOT DIAGRAM + PLAST COMPARISON FOR FREQUENCY : INTERNETWORK"
   ]
  },
  {
   "cell_type": "code",
   "execution_count": null,
   "metadata": {
    "collapsed": false
   },
   "outputs": [],
   "source": [
    "#create new SVG figure\n",
    "fig = sg.SVGFigure(\"20cm\", \"15cm\")\n",
    "\n",
    "# load matpotlib-generated figures\n",
    "fig1 = sg.fromfile(FIG_DIR + str(todayStr) + '/fBoth_cluster_plastFalse_%d_%d.svg'%(sWII,N))\n",
    "fig2 = sg.fromfile(FIG_DIR + str(todayStr) + '/fBoth_cluster_plastTrue_%d_%d.svg'%(sWII,N))\n",
    "fig3 = sg.fromfile(FIG_DIR + str(todayStr) + '/fBothChange_of_full_internetwork_frequency_noplast_%d_%d.svg'%(sWII,N))\n",
    "fig4 = sg.fromfile(FIG_DIR + str(todayStr) + '/fBothChange_of_full_internetwork_frequency_plast_%d_%d.svg'%(sWII,N))\n",
    "fig5 = sg.fromfile(FIG_DIR + str(todayStr) + '/fboth_changePLAST_cluster_%d_%d.svg'%(sWII,N))\n",
    "\n",
    "\n",
    "# get the plot objects\n",
    "scale = 0.45\n",
    "plot1 = fig1.getroot()\n",
    "plot1.moveto(0,0,scale= scale)\n",
    "plot2 = fig2.getroot()\n",
    "plot2.moveto(0, 180, scale = scale)\n",
    "plot3 = fig3.getroot()\n",
    "plot3.moveto(350, 0, scale = scale*0.85)\n",
    "plot4 = fig4.getroot()\n",
    "plot4.moveto(350, 180, scale = scale*0.85)\n",
    "plot5 = fig5.getroot()\n",
    "plot5.moveto(170, 340, scale = scale*0.85)\n",
    "\n",
    "# add text labels\n",
    "# txt1 = sg.TextElement(5,20, \"A\", size=12, weight=\"bold\")\n",
    "# txt2 = sg.TextElement(285,20, \"B\", size=12, weight=\"bold\")\n",
    "# txt3 = sg.TextElement(560,20, \"C\", size=12, weight=\"bold\")\n",
    "txt1 = sg.TextElement(10,130, \"No plasticity\", size=12, weight=\"bold\")\n",
    "txt1.rotate(-90, 10,130)\n",
    "txt2 = sg.TextElement(10,310, \"Plasticity\", size=12, weight=\"bold\")\n",
    "txt2.rotate(-90, 10,310)\n",
    "\n",
    "# append plots and labels to figure\n",
    "fig.append([plot1, plot2, plot3, plot4, plot5])\n",
    "fig.append([txt1, txt2])\n",
    "\n",
    "# save generated SVG files\n",
    "fig.save(DIRECTORY + 'freq_change_%d_%d.svg'%(sWII,N))\n",
    "svg2pdf('freq_change_%d_%d'%(sWII, N),DIRECTORY)"
   ]
  },
  {
   "cell_type": "markdown",
   "metadata": {},
   "source": [
    "## PLOT DIAGRAM + PLAST COMPARISON FOR POWER : INTERNETWORK"
   ]
  },
  {
   "cell_type": "code",
   "execution_count": null,
   "metadata": {
    "collapsed": false
   },
   "outputs": [],
   "source": [
    "#create new SVG figure\n",
    "fig = sg.SVGFigure(\"14cm\", \"14cm\")\n",
    "\n",
    "# load matpotlib-generated figures\n",
    "fig1 = sg.fromfile(FIG_DIR + str(todayStr) + '/pBoth_cluster_plastFalse_%d_%d.svg'%(sWII,N))\n",
    "fig2 = sg.fromfile(FIG_DIR + str(todayStr) + '/pBoth_cluster_plastTrue_%d_%d.svg'%(sWII,N))\n",
    "fig3 = sg.fromfile(FIG_DIR + str(todayStr) + '/pBothChange_of_full_internetwork_coherence_noplast_%d_%d.svg'%(sWII,N))\n",
    "fig4 = sg.fromfile(FIG_DIR + str(todayStr) + '/pBothChange_of_full_internetwork_coherence_plast_%d_%d.svg'%(sWII,N))\n",
    "fig5 = sg.fromfile(FIG_DIR + str(todayStr) + '/pboth_changePLAST_cluster_%d_%d.svg'%(sWII,N))\n",
    "\n",
    "\n",
    "# get the plot objects\n",
    "scale = 0.45\n",
    "plot1 = fig1.getroot()\n",
    "plot1.moveto(0,0,scale= scale)\n",
    "plot2 = fig2.getroot()\n",
    "plot2.moveto(0, 180, scale = scale)\n",
    "plot3 = fig3.getroot()\n",
    "plot3.moveto(350, 0, scale = scale*0.85)\n",
    "plot4 = fig4.getroot()\n",
    "plot4.moveto(350, 180, scale = scale*0.85)\n",
    "plot5 = fig5.getroot()\n",
    "plot5.moveto(170, 340, scale = scale*0.85)\n",
    "\n",
    "# add text labels\n",
    "# txt1 = sg.TextElement(5,20, \"A\", size=12, weight=\"bold\")\n",
    "# txt2 = sg.TextElement(285,20, \"B\", size=12, weight=\"bold\")\n",
    "# txt3 = sg.TextElement(560,20, \"C\", size=12, weight=\"bold\")\n",
    "\n",
    "# append plots and labels to figure\n",
    "fig.append([plot1, plot2, plot3, plot4, plot5])\n",
    "# fig.append([txt1, txt2, txt3])\n",
    "\n",
    "# save generated SVG files\n",
    "fig.save(DIRECTORY + 'power_change_%d_%d.svg'%(sWII,N))\n",
    "svg2pdf('power_change_%d_%d'%(sWII,N),DIRECTORY)"
   ]
  },
  {
   "cell_type": "markdown",
   "metadata": {
    "collapsed": true
   },
   "source": [
    "## PLOT CSD PLAST EFFECT"
   ]
  },
  {
   "cell_type": "code",
   "execution_count": null,
   "metadata": {
    "collapsed": false
   },
   "outputs": [],
   "source": [
    "\n",
    "#create new SVG figure\n",
    "fig = sg.SVGFigure(\"14cm\", \"14cm\")\n",
    "\n",
    "# load matpotlib-generated figures\n",
    "fig1 = sg.fromfile(FIG_DIR + str(todayStr) + '/pBoth_cluster_plastFalse_%d_%d.svg'%(sWII,N))\n",
    "fig2 = sg.fromfile(FIG_DIR + str(todayStr) + '/pBoth_cluster_plastTrue_%d_%d.svg'%(sWII,N))\n",
    "fig3 = sg.fromfile(FIG_DIR + str(todayStr) + '/pBothChange_of_full_internetwork_coherence_noplast_%d_%d.svg'%(sWII,N))\n",
    "fig4 = sg.fromfile(FIG_DIR + str(todayStr) + '/pBothChange_of_full_internetwork_coherence_plast_%d_%d.svg'%(sWII,N))\n",
    "fig5 = sg.fromfile(FIG_DIR + str(todayStr) + '/pboth_changePLAST_cluster_%d_%d.svg'%(sWII,N))\n",
    "\n",
    "\n",
    "# get the plot objects\n",
    "scale = 0.45\n",
    "plot1 = fig1.getroot()\n",
    "plot1.moveto(0,0,scale= scale)\n",
    "plot2 = fig2.getroot()\n",
    "plot2.moveto(0, 180, scale = scale)\n",
    "plot3 = fig3.getroot()\n",
    "plot3.moveto(350, 0, scale = scale*0.85)\n",
    "plot4 = fig4.getroot()\n",
    "plot4.moveto(350, 180, scale = scale*0.85)\n",
    "plot5 = fig5.getroot()\n",
    "plot5.moveto(170, 340, scale = scale*0.85)\n",
    "\n",
    "# add text labels\n",
    "txt1 = sg.TextElement(10,130, \"No plasticity\", size=12, weight=\"bold\")\n",
    "txt1.rotate(-90, 10,130)\n",
    "txt2 = sg.TextElement(10,310, \"Plasticity\", size=12, weight=\"bold\")\n",
    "txt2.rotate(-90, 10,310)\n",
    "# txt2 = sg.TextElement(285,20, \"B\", size=12, weight=\"bold\")\n",
    "# txt3 = sg.TextElement(560,20, \"C\", size=12, weight=\"bold\")\n",
    "\n",
    "# append plots and labels to figure\n",
    "fig.append([plot1, plot2, plot3, plot4, plot5])\n",
    "fig.append([txt1, txt2])\n",
    "\n",
    "# save generated SVG files\n",
    "fig.save(DIRECTORY + 'power_change_%d_%d.svg'%(sWII,N))\n",
    "svg2pdf('power_change_%d_%d'%(sWII,N),DIRECTORY)"
   ]
  },
  {
   "cell_type": "markdown",
   "metadata": {},
   "source": [
    "## PLOT GAP JUNCTIONS STRENGTH"
   ]
  },
  {
   "cell_type": "code",
   "execution_count": null,
   "metadata": {
    "collapsed": false
   },
   "outputs": [],
   "source": [
    "plotGridHeatmap(dfplast, v=1, cols=['gnmean1', 'gnmean2'], cmap=\"RdYlGn\", norm=MidpointNormalize(midpoint=1.), col_wrap=2)\n",
    "plt.savefig(DIRECTORY + 'plasticity_subnet_%d_%d.svg'%(sWII,N))\n",
    "svg2pdf('plasticity_subnet_%d_%d'%(sWII,N),DIRECTORY)"
   ]
  },
  {
   "cell_type": "markdown",
   "metadata": {},
   "source": [
    "## PLOT FREQ CHANGE SUBNET"
   ]
  },
  {
   "cell_type": "code",
   "execution_count": null,
   "metadata": {
    "collapsed": false
   },
   "outputs": [],
   "source": [
    "plotGridHeatmap(dfplast, v=10, vmin =0.7, vmax=1.3, cols=['fChange1', 'fChange2'], cmap=\"RdYlGn\", norm=MidpointNormalize(midpoint=1.), col_wrap=2)\n",
    "plt.savefig(DIRECTORY + 'plasticity_freq_subnet_%d_%d.svg'%(sWII,N))\n",
    "svg2pdf('plasticity_freq_subnet_%d_%d'%(sWII,N),DIRECTORY)\n",
    "plotGridHeatmap(dfplast, v=10,vmin =0.7, vmax=1.3, cols=['pChange1', 'pChange2'], cmap=\"RdYlGn\", norm=MidpointNormalize(midpoint=1.), col_wrap=2)\n",
    "plt.savefig(DIRECTORY + 'plasticity_power_subnet_%d_%d.svg'%(sWII,N))\n",
    "svg2pdf('plasticity_power_subnet_%d_%d'%(sWII,N),DIRECTORY)"
   ]
  },
  {
   "cell_type": "markdown",
   "metadata": {},
   "source": [
    "# PLOT ACTIVITY DIAGRAMS"
   ]
  },
  {
   "cell_type": "code",
   "execution_count": null,
   "metadata": {
    "collapsed": false
   },
   "outputs": [],
   "source": [
    "N=400\n",
    "column_names =['gammaC','nuEI','corI', \n",
    "               'burst', 'spike' , 'nonburst',\n",
    "               'burst1', 'spike1' , 'nonburst1',\n",
    "               'burst2', 'spike2' , 'nonburst2',\n",
    "               'freq','power', \n",
    "               'freq1','power1', \n",
    "               'freq2','power2', \n",
    "               'sG', 'sWII', 'tauv']\n",
    "# path = os.path.expanduser(CSV_DIR + '20160712' +'/data_sync3_ext%d.csv'%N)\n",
    "path = os.path.expanduser(CSV_DIR +'/data_sync4_ext%d.csv'%N)\n",
    "\n",
    "df = pd.read_csv(path, names= column_names ,  dtype ='float32' , sep=\";\")\n",
    "\n",
    "# sWII=10\n",
    "df= df[(df['nuEI']<200)& (df['sWII']==sWII)]\n",
    "\n",
    "df['ratio'] = df['burst']/df['spike']\n",
    "df['ratio1'] = df['burst1']/df['spike1']\n",
    "df['ratio2'] = df['burst2']/df['spike2']\n",
    "\n",
    "df['rationb'] = df['burst']/df['nonburst']\n",
    "df['rationb1'] = df['burst1']/df['nonburst1']\n",
    "df['rationb2'] = df['burst2']/df['nonburst2']\n",
    "extent = [np.min(df['sG']), np.max(df['sG']), np.min(df['tauv']), np.max(df['tauv'])]\n",
    "\n",
    "df.tail()"
   ]
  },
  {
   "cell_type": "code",
   "execution_count": null,
   "metadata": {
    "collapsed": false
   },
   "outputs": [],
   "source": []
  },
  {
   "cell_type": "code",
   "execution_count": null,
   "metadata": {
    "collapsed": false
   },
   "outputs": [],
   "source": [
    "# plotHeatmap(df, 'burst', 'Bursts', cmap=plt.cm.RdBu_r)\n",
    "# plotHeatmap(df, 'spike', 'Spikes', cmap=plt.cm.RdBu_r)\n",
    "# plotHeatmap(df, 'ratio', 'Ratio', cmap=plt.cm.RdBu_r)"
   ]
  },
  {
   "cell_type": "code",
   "execution_count": null,
   "metadata": {
    "collapsed": true
   },
   "outputs": [],
   "source": [
    "# plotHeatmap(df, 'freq1', '', cmap=plt.cm.RdBu_r)\n",
    "# plotHeatmap(df, 'freq2', '', cmap=plt.cm.RdBu_r)"
   ]
  },
  {
   "cell_type": "code",
   "execution_count": null,
   "metadata": {
    "collapsed": true
   },
   "outputs": [],
   "source": [
    "# plotHeatmap(df, 'ratio', '', cmap=plt.cm.RdBu_r)\n",
    "# plotHeatmap(df, 'rationb', '', cmap=plt.cm.RdBu_r)"
   ]
  },
  {
   "cell_type": "code",
   "execution_count": null,
   "metadata": {
    "collapsed": true
   },
   "outputs": [],
   "source": [
    "# plotHeatmap(df, 'ratio1', '', cmap=plt.cm.RdBu_r)\n",
    "# plotHeatmap(df, 'ratio2', '', cmap=plt.cm.RdBu_r)\n",
    "\n",
    "# plotHeatmap(df, 'rationb1', '', cmap=plt.cm.RdBu_r)\n",
    "# plotHeatmap(df, 'rationb2', '', cmap=plt.cm.RdBu_r)"
   ]
  },
  {
   "cell_type": "code",
   "execution_count": null,
   "metadata": {
    "collapsed": true
   },
   "outputs": [],
   "source": [
    "# plotHeatmap(df, 'spike1', '', cmap=plt.cm.RdBu_r)\n",
    "# plotHeatmap(df, 'burst1', '', cmap=plt.cm.RdBu_r)\n",
    "# plotHeatmap(df, 'nonburst1', '', cmap=plt.cm.RdBu_r)\n",
    "\n",
    "# plotHeatmap(df, 'spike2', '', cmap=plt.cm.RdBu_r)\n",
    "# plotHeatmap(df, 'burst2', '', cmap=plt.cm.RdBu_r)\n",
    "# plotHeatmap(df, 'nonburst2', '', cmap=plt.cm.RdBu_r)\n"
   ]
  },
  {
   "cell_type": "code",
   "execution_count": null,
   "metadata": {
    "collapsed": false
   },
   "outputs": [],
   "source": [
    "g = plotGridHeatmap(df,v=0, cols=['burst1', 'spike1', 'ratio1', 'burst2', 'spike2', 'ratio2'], cmap=plt.cm.magma, col_wrap=3 )\n",
    "plt.savefig(DIRECTORY + 'activity_subnet_%d_%d.svg'%(sWII,N))\n",
    "svg2pdf('activity_subnet_%d_%d'%(sWII,N),DIRECTORY)"
   ]
  },
  {
   "cell_type": "code",
   "execution_count": null,
   "metadata": {
    "collapsed": false
   },
   "outputs": [],
   "source": [
    "plotGridHeatmap(df,cols=['burst', 'spike', 'ratio'], cmap=plt.cm.magma, col_wrap=3 )\n",
    "plt.savefig(DIRECTORY + 'activity_full_%d_%d.svg'%(sWII,N))\n",
    "svg2pdf('activity_full_%d_%d'%(sWII,N),DIRECTORY)\n",
    "plotGridHeatmap(df,v=True, cols=['freq', 'freq1', 'freq2'], cmap=\"YlGnBu\", col_wrap=3 )\n",
    "plt.savefig(DIRECTORY + 'freq_subnet_%d_%d.svg'%(sWII,N))\n",
    "svg2pdf('freq_subnet_%d_%d'%(sWII,N),DIRECTORY)\n"
   ]
  },
  {
   "cell_type": "code",
   "execution_count": null,
   "metadata": {
    "collapsed": true
   },
   "outputs": [],
   "source": []
  }
 ],
 "metadata": {
  "kernelspec": {
   "display_name": "Python [Root]",
   "language": "python",
   "name": "Python [Root]"
  },
  "language_info": {
   "codemirror_mode": {
    "name": "ipython",
    "version": 3
   },
   "file_extension": ".py",
   "mimetype": "text/x-python",
   "name": "python",
   "nbconvert_exporter": "python",
   "pygments_lexer": "ipython3",
   "version": "3.5.1"
  }
 },
 "nbformat": 4,
 "nbformat_minor": 0
}
