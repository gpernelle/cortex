{
 "cells": [
  {
   "cell_type": "markdown",
   "metadata": {},
   "source": [
    "Data generated with GetGammaSteadyState.py"
   ]
  },
  {
   "cell_type": "code",
   "execution_count": 47,
   "metadata": {
    "collapsed": false
   },
   "outputs": [
    {
     "name": "stdout",
     "output_type": "stream",
     "text": [
      "The autoreload extension is already loaded. To reload it, use:\n",
      "  %reload_ext autoreload\n"
     ]
    },
    {
     "name": "stderr",
     "output_type": "stream",
     "text": [
      "[autoreload of functionsTF failed: Traceback (most recent call last):\n",
      "  File \"/mnt/DATA/gp1514/.pyenv/versions/anaconda3-4.1.0/lib/python3.5/site-packages/IPython/extensions/autoreload.py\", line 247, in check\n",
      "    superreload(m, reload, self.old_objects)\n",
      "argparse.ArgumentError: argument --summaries_dir: conflicting option string: --summaries_dir\n",
      "]\n"
     ]
    }
   ],
   "source": [
    "import tensorflow as tf\n",
    "from functionsTF import *\n",
    "from functions import *\n",
    "from IO import *\n",
    "\n",
    "%load_ext autoreload\n",
    "%autoreload 2\n",
    "\n",
    "import time\n",
    "import numpy as np\n",
    "import matplotlib\n",
    "%matplotlib inline\n",
    "import pylab as plt\n",
    "import seaborn as sns\n",
    "#Imports for visualization\n",
    "import PIL.Image\n",
    "from io import BytesIO\n",
    "from IPython.display import clear_output, Image, display"
   ]
  },
  {
   "cell_type": "code",
   "execution_count": 39,
   "metadata": {
    "collapsed": true
   },
   "outputs": [],
   "source": [
    "import mutual_info"
   ]
  },
  {
   "cell_type": "code",
   "execution_count": 40,
   "metadata": {
    "collapsed": false
   },
   "outputs": [],
   "source": [
    "'''\n",
    "Read the data file and compile them into a pandas dataframe \n",
    "'''\n",
    "df = pd.DataFrame(columns=('tauv', 'g', 'k', 'T', 'N', 'freq', 'power', 'gSteady') )\n",
    "d = 500\n",
    "i=-1\n",
    "sigma = 1\n",
    "for T in [20000]:\n",
    "    for k in range(0,50,5):\n",
    "        for N in [100, 1000]:\n",
    "            for g in [7]:\n",
    "                for tauv in np.arange(15,90,5):\n",
    "                    i+=1\n",
    "                    filename = \"../data/GetGammaSteadyState/GetSteadyState-tauv-%d_g-%d_N-%d_T-%d_k-%d\" % (tauv, g, N, T, k)\n",
    "                    a = np.load(filename)\n",
    "                    df.loc[i] = [int(tauv), int(g), int(k), int(T), int(N), \n",
    "                                a['freq'], a['power'], np.mean(a['gamma'][-2000:])]"
   ]
  },
  {
   "cell_type": "code",
   "execution_count": 41,
   "metadata": {
    "collapsed": true
   },
   "outputs": [],
   "source": [
    "df.to_csv('gSteady.csv')"
   ]
  },
  {
   "cell_type": "code",
   "execution_count": 42,
   "metadata": {
    "collapsed": true
   },
   "outputs": [],
   "source": [
    "def facet_heatmap(data, df=None, v=0, vmin=None, vmax=None, **kws):\n",
    "    kind = data['variable'].get_values()[0][:-1]\n",
    "    if vmin == None:\n",
    "        vmin, _ = vmin_vmax(df, kind=kind, v=v)\n",
    "    if vmax == None:\n",
    "        _, vmax = vmin_vmax(df, kind=kind, v=v)\n",
    "    data = data.pivot(index='k', columns='g', values='value')\n",
    "    im = sns.heatmap(data, yticklabels=10, xticklabels=10, vmin=vmin, vmax=vmax, **kws)  # <-- Pass kwargs to heatmap\n",
    "    im.invert_yaxis()\n",
    "    \n",
    "def plotGridHeatmap(df, col_wrap=2, cols=['burst1', 'spike1', 'burst2', 'spike2'], v=-1, vmin=None, vmax=None, **kws):\n",
    "    data = pd.melt(df, id_vars=['k', 'g'], value_vars=cols)\n",
    "    #     print(data.head())\n",
    "    with sns.plotting_context(font_scale=5.5):\n",
    "        g = sns.FacetGrid(data, col=\"variable\", col_wrap=col_wrap, size=3, aspect=1)\n",
    "\n",
    "    cbar_ax = g.fig.add_axes([.92, .3, .02, .4])  # <-- Create a colorbar axes\n",
    "    g = g.map_dataframe(facet_heatmap, v=v, df=df, vmin=vmin, vmax=vmax,\n",
    "                        cbar_ax=cbar_ax, **kws)  # <-- Specify the colorbar axes and limits\n",
    "    g.set_titles(col_template=\"{col_name}\", fontweight='bold', fontsize=18)\n",
    "    g.fig.subplots_adjust(right=.9)  # <-- Add space so the colorbar doesn't overlap the plot\n",
    "    return g\n",
    "\n",
    "def plotHeatmap(df, col=\"cor1\", title='', cmap=None, **kws):\n",
    "    plt.figure()\n",
    "    '''\n",
    "    plot heatmap using seaborn library\n",
    "    '''\n",
    "    burst = df[['k', 'tauv', col]]\n",
    "    burst.loc[:, (col)] = burst[col].astype(float)\n",
    "    burst.loc[:,('k')] = burst['k'].astype(int)\n",
    "    burst.loc[:,('tauv')] = burst['tauv'].astype(int)\n",
    "    c = burst.pivot('k','tauv', col)\n",
    "\n",
    "\n",
    "    im = sns.heatmap(c, yticklabels=5, xticklabels=2, cmap=cmap, **kws)\n",
    "    im.invert_yaxis()\n",
    "    sns.set_style(\"whitegrid\")\n",
    "    if not title:\n",
    "        title=col\n",
    "    plt.title(title)\n",
    "    return 0"
   ]
  },
  {
   "cell_type": "code",
   "execution_count": 43,
   "metadata": {
    "collapsed": false,
    "scrolled": false
   },
   "outputs": [
    {
     "data": {
      "text/html": [
       "<div>\n",
       "<table border=\"1\" class=\"dataframe\">\n",
       "  <thead>\n",
       "    <tr style=\"text-align: right;\">\n",
       "      <th></th>\n",
       "      <th>tauv</th>\n",
       "      <th>g</th>\n",
       "      <th>k</th>\n",
       "      <th>T</th>\n",
       "      <th>N</th>\n",
       "      <th>freq</th>\n",
       "      <th>power</th>\n",
       "      <th>gSteady</th>\n",
       "    </tr>\n",
       "  </thead>\n",
       "  <tbody>\n",
       "    <tr>\n",
       "      <th>0</th>\n",
       "      <td>15.0</td>\n",
       "      <td>7.0</td>\n",
       "      <td>0.0</td>\n",
       "      <td>20000.0</td>\n",
       "      <td>100.0</td>\n",
       "      <td>69.53376205787781</td>\n",
       "      <td>-0.7470211408356625</td>\n",
       "      <td>5.230364</td>\n",
       "    </tr>\n",
       "    <tr>\n",
       "      <th>1</th>\n",
       "      <td>20.0</td>\n",
       "      <td>7.0</td>\n",
       "      <td>0.0</td>\n",
       "      <td>20000.0</td>\n",
       "      <td>100.0</td>\n",
       "      <td>63.90675241157555</td>\n",
       "      <td>0.33325740665374187</td>\n",
       "      <td>5.310041</td>\n",
       "    </tr>\n",
       "    <tr>\n",
       "      <th>2</th>\n",
       "      <td>25.0</td>\n",
       "      <td>7.0</td>\n",
       "      <td>0.0</td>\n",
       "      <td>20000.0</td>\n",
       "      <td>100.0</td>\n",
       "      <td>57.07395498392282</td>\n",
       "      <td>2.2255468160433955</td>\n",
       "      <td>5.386736</td>\n",
       "    </tr>\n",
       "    <tr>\n",
       "      <th>3</th>\n",
       "      <td>30.0</td>\n",
       "      <td>7.0</td>\n",
       "      <td>0.0</td>\n",
       "      <td>20000.0</td>\n",
       "      <td>100.0</td>\n",
       "      <td>53.85852090032153</td>\n",
       "      <td>3.090364979349278</td>\n",
       "      <td>5.412436</td>\n",
       "    </tr>\n",
       "    <tr>\n",
       "      <th>4</th>\n",
       "      <td>35.0</td>\n",
       "      <td>7.0</td>\n",
       "      <td>0.0</td>\n",
       "      <td>20000.0</td>\n",
       "      <td>100.0</td>\n",
       "      <td>50.64308681672025</td>\n",
       "      <td>3.6535244370463027</td>\n",
       "      <td>5.323642</td>\n",
       "    </tr>\n",
       "  </tbody>\n",
       "</table>\n",
       "</div>"
      ],
      "text/plain": [
       "   tauv    g    k        T      N               freq                power  \\\n",
       "0  15.0  7.0  0.0  20000.0  100.0  69.53376205787781  -0.7470211408356625   \n",
       "1  20.0  7.0  0.0  20000.0  100.0  63.90675241157555  0.33325740665374187   \n",
       "2  25.0  7.0  0.0  20000.0  100.0  57.07395498392282   2.2255468160433955   \n",
       "3  30.0  7.0  0.0  20000.0  100.0  53.85852090032153    3.090364979349278   \n",
       "4  35.0  7.0  0.0  20000.0  100.0  50.64308681672025   3.6535244370463027   \n",
       "\n",
       "    gSteady  \n",
       "0  5.230364  \n",
       "1  5.310041  \n",
       "2  5.386736  \n",
       "3  5.412436  \n",
       "4  5.323642  "
      ]
     },
     "execution_count": 43,
     "metadata": {},
     "output_type": "execute_result"
    }
   ],
   "source": [
    "df.head()"
   ]
  },
  {
   "cell_type": "code",
   "execution_count": 46,
   "metadata": {
    "collapsed": false
   },
   "outputs": [
    {
     "data": {
      "image/png": "[encoded data removed]",
      "text/plain": [
       "<matplotlib.figure.Figure at 0x7f8017df7160>"
      ]
     },
     "metadata": {},
     "output_type": "display_data"
    }
   ],
   "source": [
    "plotHeatmap(df[df['N']==1000], col='gSteady')\n",
    "plt.savefig(DIRECTORY + 'gSteady.pdf')"
   ]
  },
  {
   "cell_type": "code",
   "execution_count": 36,
   "metadata": {
    "collapsed": true
   },
   "outputs": [],
   "source": [
    "def getGSteady(tauv, k, N=100):\n",
    "    '''\n",
    "    Get steady state value of the gap junction strenght\n",
    "    '''\n",
    "    df = pd.read_csv('gSteady.csv')\n",
    "    df2 = df[(df['tauv']==tauv) & (df['k']==k) & (df['N']==N)]\n",
    "    return df2['gSteady'].values[0]"
   ]
  },
  {
   "cell_type": "code",
   "execution_count": 49,
   "metadata": {
    "collapsed": false
   },
   "outputs": [
    {
     "data": {
      "text/plain": [
       "5.4343697770964345"
      ]
     },
     "execution_count": 49,
     "metadata": {},
     "output_type": "execute_result"
    }
   ],
   "source": [
    "getGSteady(20,5, 1000)"
   ]
  },
  {
   "cell_type": "code",
   "execution_count": null,
   "metadata": {
    "collapsed": true
   },
   "outputs": [],
   "source": []
  }
 ],
 "metadata": {
  "anaconda-cloud": {},
  "kernelspec": {
   "display_name": "Python [Root]",
   "language": "python",
   "name": "Python [Root]"
  },
  "language_info": {
   "codemirror_mode": {
    "name": "ipython",
    "version": 3
   },
   "file_extension": ".py",
   "mimetype": "text/x-python",
   "name": "python",
   "nbconvert_exporter": "python",
   "pygments_lexer": "ipython3",
   "version": "3.5.1"
  }
 },
 "nbformat": 4,
 "nbformat_minor": 0
}
