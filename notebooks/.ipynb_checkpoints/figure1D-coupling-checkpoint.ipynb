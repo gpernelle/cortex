{
 "cells": [
  {
   "cell_type": "code",
   "execution_count": 1,
   "metadata": {
    "collapsed": false
   },
   "outputs": [],
   "source": [
    "from __future__ import division\n",
    "from utils import *\n",
    "from functions import *\n",
    "%matplotlib inline\n",
    "\n",
    "%load_ext autoreload\n",
    "%autoreload 2\n",
    "\n",
    "today = datetime.date.today()\n",
    "todayStr = '%04d%02d%02d' % (today.year, today.month, today.day)\n",
    "# todayStr = '20151005'\n",
    "DIRECTORY = os.path.expanduser(\"~/Dropbox/0000 - PhD/figures/\"+todayStr+\"/\")\n",
    "if not os.path.exists(DIRECTORY):\n",
    "    os.makedirs(DIRECTORY)\n"
   ]
  },
  {
   "cell_type": "code",
   "execution_count": 2,
   "metadata": {
    "collapsed": false
   },
   "outputs": [
    {
     "data": {
      "text/html": [
       "\n",
       "    <div class=\"bk-banner\">\n",
       "        <a href=\"http://bokeh.pydata.org\" target=\"_blank\" class=\"bk-logo bk-logo-small bk-logo-notebook\"></a>\n",
       "        <span id=\"d6737109-724a-4c93-a906-7a78a11217f4\">Loading BokehJS ...</span>\n",
       "    </div>"
      ]
     },
     "metadata": {},
     "output_type": "display_data"
    },
    {
     "data": {
      "application/javascript": [
       "\n",
       "(function(global) {\n",
       "  function now() {\n",
       "    return new Date();\n",
       "  }\n",
       "\n",
       "  if (typeof (window._bokeh_onload_callbacks) === \"undefined\") {\n",
       "    window._bokeh_onload_callbacks = [];\n",
       "  }\n",
       "\n",
       "  function run_callbacks() {\n",
       "    window._bokeh_onload_callbacks.forEach(function(callback) { callback() });\n",
       "    delete window._bokeh_onload_callbacks\n",
       "    console.info(\"Bokeh: all callbacks have finished\");\n",
       "  }\n",
       "\n",
       "  function load_libs(js_urls, callback) {\n",
       "    window._bokeh_onload_callbacks.push(callback);\n",
       "    if (window._bokeh_is_loading > 0) {\n",
       "      console.log(\"Bokeh: BokehJS is being loaded, scheduling callback at\", now());\n",
       "      return null;\n",
       "    }\n",
       "    if (js_urls == null || js_urls.length === 0) {\n",
       "      run_callbacks();\n",
       "      return null;\n",
       "    }\n",
       "    console.log(\"Bokeh: BokehJS not loaded, scheduling load and callback at\", now());\n",
       "    window._bokeh_is_loading = js_urls.length;\n",
       "    for (var i = 0; i < js_urls.length; i++) {\n",
       "      var url = js_urls[i];\n",
       "      var s = document.createElement('script');\n",
       "      s.src = url;\n",
       "      s.async = false;\n",
       "      s.onreadystatechange = s.onload = function() {\n",
       "        window._bokeh_is_loading--;\n",
       "        if (window._bokeh_is_loading === 0) {\n",
       "          console.log(\"Bokeh: all BokehJS libraries loaded\");\n",
       "          run_callbacks()\n",
       "        }\n",
       "      };\n",
       "      s.onerror = function() {\n",
       "        console.warn(\"failed to load library \" + url);\n",
       "      };\n",
       "      console.log(\"Bokeh: injecting script tag for BokehJS library: \", url);\n",
       "      document.getElementsByTagName(\"head\")[0].appendChild(s);\n",
       "    }\n",
       "  };\n",
       "\n",
       "  var js_urls = ['https://cdn.pydata.org/bokeh/release/bokeh-0.11.1.min.js', 'https://cdn.pydata.org/bokeh/release/bokeh-widgets-0.11.1.min.js', 'https://cdn.pydata.org/bokeh/release/bokeh-compiler-0.11.1.min.js'];\n",
       "\n",
       "  var inline_js = [\n",
       "    function(Bokeh) {\n",
       "      Bokeh.set_log_level(\"info\");\n",
       "    },\n",
       "    \n",
       "    function(Bokeh) {\n",
       "      Bokeh.$(\"#d6737109-724a-4c93-a906-7a78a11217f4\").text(\"BokehJS successfully loaded\");\n",
       "    },\n",
       "    function(Bokeh) {\n",
       "      console.log(\"Bokeh: injecting CSS: https://cdn.pydata.org/bokeh/release/bokeh-0.11.1.min.css\");\n",
       "      Bokeh.embed.inject_css(\"https://cdn.pydata.org/bokeh/release/bokeh-0.11.1.min.css\");\n",
       "      console.log(\"Bokeh: injecting CSS: https://cdn.pydata.org/bokeh/release/bokeh-widgets-0.11.1.min.css\");\n",
       "      Bokeh.embed.inject_css(\"https://cdn.pydata.org/bokeh/release/bokeh-widgets-0.11.1.min.css\");\n",
       "    }\n",
       "  ];\n",
       "\n",
       "  function run_inline_js() {\n",
       "    for (var i = 0; i < inline_js.length; i++) {\n",
       "      inline_js[i](window.Bokeh);\n",
       "    }\n",
       "  }\n",
       "\n",
       "  if (window._bokeh_is_loading === 0) {\n",
       "    console.log(\"Bokeh: BokehJS loaded, going straight to plotting\");\n",
       "    run_inline_js();\n",
       "  } else {\n",
       "    load_libs(js_urls, function() {\n",
       "      console.log(\"Bokeh: BokehJS plotting callback run at\", now());\n",
       "      run_inline_js();\n",
       "    });\n",
       "  }\n",
       "}(this));"
      ]
     },
     "metadata": {},
     "output_type": "display_data"
    }
   ],
   "source": [
    "from bokeh.io import output_notebook\n",
    "output_notebook()"
   ]
  },
  {
   "cell_type": "code",
   "execution_count": 6,
   "metadata": {
    "collapsed": false
   },
   "outputs": [],
   "source": [
    "# Instantiate classes\n",
    "# # cortex = Cortex()\n",
    "# trn = TRN()\n",
    "# gr = GRAPH()\n",
    "\n",
    "# Figure style\n",
    "fontsize =14\n",
    "\n",
    "matplotlib.rc('xtick', labelsize=fontsize)\n",
    "matplotlib.rc('ytick', labelsize=fontsize)\n",
    "matplotlib.rc('axes', labelsize = fontsize)\n",
    "matplotlib.rc('axes', titlesize = fontsize)\n",
    "matplotlib.rc('lines', linewidth=2)\n",
    "matplotlib.rc('axes', facecolor = \"white\")"
   ]
  },
  {
   "cell_type": "code",
   "execution_count": 8,
   "metadata": {
    "collapsed": false
   },
   "outputs": [
    {
     "data": {
      "image/png": "[encoded data removed]",
      "text/plain": [
       "<matplotlib.figure.Figure at 0x7f1ae607ada0>"
      ]
     },
     "metadata": {},
     "output_type": "display_data"
    }
   ],
   "source": [
    "sns.set_context(\"paper\", font_scale=1.5, rc={\"lines.linewidth\": 2.5})\n",
    "T = 1100\n",
    "dt = 0.1\n",
    "t = np.arange(0,T,dt)\n",
    "N=3\n",
    "ylim=[-61,-55]\n",
    "\n",
    "c= 0\n",
    "g = [0,5,3]\n",
    "v = np.ones(shape=(N, len(t)))*-56\n",
    "u = np.zeros(shape=(N, len(t)))\n",
    "_input=np.zeros(shape=(1, len(t)))\n",
    "for i in range(len(t)-1):\n",
    "    \n",
    "    b = (i*dt> 200 and i*dt < 900) \n",
    "    \n",
    "    v[0,i+1] = -60*b -56*(1-b)\n",
    "    _input[0,i+1] = v[0,i+1]\n",
    "    v[0,i+1] = v[0,i] + dt/10*(v[0,i+1] -v[0,i])\n",
    "    for k in [1,2]:\n",
    "        v[k,i+1] = v[k,i] + dt/15 * ( (v[k,i]+60)*(v[k,i]+50) - 20*u[k,i] -N*g[k]*(v[k,i]-v[0,i]))\n",
    "        u[k,i+1] = u[k,i] + dt * 0.1 * ( (v[k,i] +55) - u[k,i])\n",
    "\n",
    "    u[:,i+1] = u[:,i+1] + 50* (v[:,i+1]>25)\n",
    "    v[:,i+1] = -40 * (v[:,i+1]>25) + v[:,i+1]*(v[:,i+1]<=25)\n",
    "\n",
    "\n",
    "fig = plt.figure(figsize=(4,4))\n",
    "\n",
    "# plot clamping voltage\n",
    "ax = fig.add_subplot(311)\n",
    "ax.plot(t,_input[0,:])\n",
    "ax.set_xlim([100,1100])\n",
    "ax.set_xticks([])\n",
    "ax.set_ylim([-61,-55])\n",
    "ax.set_yticks([-60,-56])\n",
    "ax.set_ylabel('Clamping')\n",
    "\n",
    "# plot N1\n",
    "ax = fig.add_subplot(312)         \n",
    "ax.set_xticklabels([])\n",
    "ax.plot(t, v[0,:],color='#33ccff', label='v. clamped neuron')\n",
    "ax.set_xlim([100,1100])\n",
    "ax.set_ylim([-61,-55.5])\n",
    "ax.set_yticks([-60,-56])\n",
    "ax.set_ylabel('N1')\n",
    "\n",
    "# plot N2 for 2 different values of gamma\n",
    "ax = fig.add_subplot(313)\n",
    "ax.set_xticklabels([])\n",
    "ax.plot(t, v[1,:],color='#6699cc', label=r'$\\gamma$ coupled neuron')\n",
    "ax.plot(t, v[2,:],'--',color='#6699cc', label=r'$\\gamma$ coupled neuron')\n",
    "ax.set_axis_bgcolor((1, 1,1))\n",
    "\n",
    "ax.set_ylabel('N2')\n",
    "ax.set_xlabel('Time [1s]')\n",
    "ax.set_ylim([-59,-56])\n",
    "ax.set_yticks([-58,-56])\n",
    "ax.set_xticks([])\n",
    "ax.set_xlim([100,1100])\n",
    "ax.text(500,-58.25,r'$\\gamma=5$', fontsize = fontsize)\n",
    "ax.text(500,-57.0,r'$\\gamma=3$', fontsize = fontsize)\n",
    "# plt.suptitle('Effect of gap-junction coupling', fontsize=fontsize)\n",
    "plt.tight_layout()\n",
    "# plt.savefig(DIRECTORY+'coupling.pdf')\n",
    "PAPER = os.path.expanduser('~/Dropbox/ICL-2014/Presentations/2016-10-11-GJ-sync-paper/figures/')\n"
   ]
  },
  {
   "cell_type": "code",
   "execution_count": 46,
   "metadata": {
    "collapsed": false
   },
   "outputs": [
    {
     "data": {
      "text/plain": [
       "array([[ 0.,  2.,  0.],\n",
       "       [ 0.,  2.,  0.]])"
      ]
     },
     "execution_count": 46,
     "metadata": {},
     "output_type": "execute_result"
    }
   ],
   "source": [
    "v = np.zeros(shape=(2,3))\n",
    "v[:,1]=2+v[:,0]\n",
    "v"
   ]
  },
  {
   "cell_type": "code",
   "execution_count": 47,
   "metadata": {
    "collapsed": false
   },
   "outputs": [
    {
     "data": {
      "text/plain": [
       "array([[ 0.,  3.,  0.],\n",
       "       [ 0., -1.,  0.]])"
      ]
     },
     "execution_count": 47,
     "metadata": {},
     "output_type": "execute_result"
    }
   ],
   "source": [
    "v[:,1]=[3,-1]\n",
    "v"
   ]
  },
  {
   "cell_type": "code",
   "execution_count": 48,
   "metadata": {
    "collapsed": false
   },
   "outputs": [
    {
     "data": {
      "text/plain": [
       "array([ True, False], dtype=bool)"
      ]
     },
     "execution_count": 48,
     "metadata": {},
     "output_type": "execute_result"
    }
   ],
   "source": [
    "v[:,1]>0"
   ]
  }
 ],
 "metadata": {
  "kernelspec": {
   "display_name": "Python [Root]",
   "language": "python",
   "name": "Python [Root]"
  },
  "language_info": {
   "codemirror_mode": {
    "name": "ipython",
    "version": 3
   },
   "file_extension": ".py",
   "mimetype": "text/x-python",
   "name": "python",
   "nbconvert_exporter": "python",
   "pygments_lexer": "ipython3",
   "version": "3.5.1"
  }
 },
 "nbformat": 4,
 "nbformat_minor": 0
}
