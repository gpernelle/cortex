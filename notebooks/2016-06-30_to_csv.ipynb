{
 "cells": [
  {
   "cell_type": "code",
   "execution_count": 1,
   "metadata": {
    "collapsed": false
   },
   "outputs": [
    {
     "data": {
      "text/html": [
       "\n",
       "    <div class=\"bk-banner\">\n",
       "        <a href=\"http://bokeh.pydata.org\" target=\"_blank\" class=\"bk-logo bk-logo-small bk-logo-notebook\"></a>\n",
       "        <span id=\"bdba21fd-fa42-4f68-95b3-4316be6d71ee\">Loading BokehJS ...</span>\n",
       "    </div>"
      ]
     },
     "metadata": {},
     "output_type": "display_data"
    },
    {
     "data": {
      "application/javascript": [
       "\n",
       "(function(global) {\n",
       "  function now() {\n",
       "    return new Date();\n",
       "  }\n",
       "\n",
       "  if (typeof (window._bokeh_onload_callbacks) === \"undefined\") {\n",
       "    window._bokeh_onload_callbacks = [];\n",
       "  }\n",
       "\n",
       "  function run_callbacks() {\n",
       "    window._bokeh_onload_callbacks.forEach(function(callback) { callback() });\n",
       "    delete window._bokeh_onload_callbacks\n",
       "    console.info(\"Bokeh: all callbacks have finished\");\n",
       "  }\n",
       "\n",
       "  function load_libs(js_urls, callback) {\n",
       "    window._bokeh_onload_callbacks.push(callback);\n",
       "    if (window._bokeh_is_loading > 0) {\n",
       "      console.log(\"Bokeh: BokehJS is being loaded, scheduling callback at\", now());\n",
       "      return null;\n",
       "    }\n",
       "    if (js_urls == null || js_urls.length === 0) {\n",
       "      run_callbacks();\n",
       "      return null;\n",
       "    }\n",
       "    console.log(\"Bokeh: BokehJS not loaded, scheduling load and callback at\", now());\n",
       "    window._bokeh_is_loading = js_urls.length;\n",
       "    for (var i = 0; i < js_urls.length; i++) {\n",
       "      var url = js_urls[i];\n",
       "      var s = document.createElement('script');\n",
       "      s.src = url;\n",
       "      s.async = false;\n",
       "      s.onreadystatechange = s.onload = function() {\n",
       "        window._bokeh_is_loading--;\n",
       "        if (window._bokeh_is_loading === 0) {\n",
       "          console.log(\"Bokeh: all BokehJS libraries loaded\");\n",
       "          run_callbacks()\n",
       "        }\n",
       "      };\n",
       "      s.onerror = function() {\n",
       "        console.warn(\"failed to load library \" + url);\n",
       "      };\n",
       "      console.log(\"Bokeh: injecting script tag for BokehJS library: \", url);\n",
       "      document.getElementsByTagName(\"head\")[0].appendChild(s);\n",
       "    }\n",
       "  };\n",
       "\n",
       "  var js_urls = ['https://cdn.pydata.org/bokeh/release/bokeh-0.11.1.min.js', 'https://cdn.pydata.org/bokeh/release/bokeh-widgets-0.11.1.min.js', 'https://cdn.pydata.org/bokeh/release/bokeh-compiler-0.11.1.min.js'];\n",
       "\n",
       "  var inline_js = [\n",
       "    function(Bokeh) {\n",
       "      Bokeh.set_log_level(\"info\");\n",
       "    },\n",
       "    \n",
       "    function(Bokeh) {\n",
       "      Bokeh.$(\"#bdba21fd-fa42-4f68-95b3-4316be6d71ee\").text(\"BokehJS successfully loaded\");\n",
       "    },\n",
       "    function(Bokeh) {\n",
       "      console.log(\"Bokeh: injecting CSS: https://cdn.pydata.org/bokeh/release/bokeh-0.11.1.min.css\");\n",
       "      Bokeh.embed.inject_css(\"https://cdn.pydata.org/bokeh/release/bokeh-0.11.1.min.css\");\n",
       "      console.log(\"Bokeh: injecting CSS: https://cdn.pydata.org/bokeh/release/bokeh-widgets-0.11.1.min.css\");\n",
       "      Bokeh.embed.inject_css(\"https://cdn.pydata.org/bokeh/release/bokeh-widgets-0.11.1.min.css\");\n",
       "    }\n",
       "  ];\n",
       "\n",
       "  function run_inline_js() {\n",
       "    for (var i = 0; i < inline_js.length; i++) {\n",
       "      inline_js[i](window.Bokeh);\n",
       "    }\n",
       "  }\n",
       "\n",
       "  if (window._bokeh_is_loading === 0) {\n",
       "    console.log(\"Bokeh: BokehJS loaded, going straight to plotting\");\n",
       "    run_inline_js();\n",
       "  } else {\n",
       "    load_libs(js_urls, function() {\n",
       "      console.log(\"Bokeh: BokehJS plotting callback run at\", now());\n",
       "      run_inline_js();\n",
       "    });\n",
       "  }\n",
       "}(this));"
      ]
     },
     "metadata": {},
     "output_type": "display_data"
    }
   ],
   "source": [
    "from __future__ import division\n",
    "from IO import *\n",
    "from cycler import cycler\n",
    "import matplotlib as mpl\n",
    "%matplotlib inline\n",
    "from numba import autojit\n",
    "\n",
    "%load_ext autoreload\n",
    "%autoreload 2\n",
    "\n",
    "today = datetime.date.today()\n",
    "todayStr = '%04d%02d%02d' % (today.year, today.month, today.day)\n",
    "# todayStr = '20151005'\n",
    "DIRECTORY = os.path.expanduser(\"~/Dropbox/0000 - PhD/figures/\"+todayStr+\"/\")\n",
    "if not os.path.exists(DIRECTORY):\n",
    "    os.makedirs(DIRECTORY)\n",
    "    \n",
    "from bokeh.io import output_notebook\n",
    "output_notebook()"
   ]
  },
  {
   "cell_type": "code",
   "execution_count": 2,
   "metadata": {
    "collapsed": false
   },
   "outputs": [
    {
     "data": {
      "application/javascript": [
       "IPython.OutputArea.auto_scroll_threshold = 9999;"
      ],
      "text/plain": [
       "<IPython.core.display.Javascript object>"
      ]
     },
     "metadata": {},
     "output_type": "display_data"
    }
   ],
   "source": [
    "%%javascript\n",
    "IPython.OutputArea.auto_scroll_threshold = 9999;"
   ]
  },
  {
   "cell_type": "code",
   "execution_count": 3,
   "metadata": {
    "collapsed": false
   },
   "outputs": [],
   "source": [
    "# Instantiate classes\n",
    "cortex = Cortex()\n",
    "trn = TRN()\n",
    "gr = GRAPH(cortex)\n",
    "\n",
    "# styling\n",
    "gammaColor = '#00cc99'\n"
   ]
  },
  {
   "cell_type": "code",
   "execution_count": 4,
   "metadata": {
    "collapsed": false,
    "scrolled": true
   },
   "outputs": [
    {
     "name": "stdout",
     "output_type": "stream",
     "text": [
      "17 10 0\n",
      "19 10 0\n",
      "15 10 0\n",
      "21 10 0\n"
     ]
    },
    {
     "name": "stderr",
     "output_type": "stream",
     "text": [
      "/Users/guillaume/.pyenv/versions/anaconda3-2.5.0/lib/python3.5/site-packages/numpy/core/_methods.py:59: RuntimeWarning: Mean of empty slice.\n",
      "  warnings.warn(\"Mean of empty slice.\", RuntimeWarning)\n",
      "/Users/guillaume/.pyenv/versions/anaconda3-2.5.0/lib/python3.5/site-packages/numpy/core/_methods.py:59: RuntimeWarning: Mean of empty slice.\n",
      "  warnings.warn(\"Mean of empty slice.\", RuntimeWarning)\n",
      "/Users/guillaume/.pyenv/versions/anaconda3-2.5.0/lib/python3.5/site-packages/numpy/core/_methods.py:59: RuntimeWarning: Mean of empty slice.\n",
      "  warnings.warn(\"Mean of empty slice.\", RuntimeWarning)\n",
      "/Users/guillaume/.pyenv/versions/anaconda3-2.5.0/lib/python3.5/site-packages/numpy/core/_methods.py:59: RuntimeWarning: Mean of empty slice.\n",
      "  warnings.warn(\"Mean of empty slice.\", RuntimeWarning)\n"
     ]
    },
    {
     "name": "stdout",
     "output_type": "stream",
     "text": [
      "15 10 2\n",
      "17 10 2\n",
      "19 10 2\n",
      "21 10 2\n",
      "15 10 4\n",
      "17 10 4\n",
      "19 10 4\n",
      "21 10 4\n"
     ]
    }
   ],
   "source": [
    "# #-------------------------------\n",
    "# # PARAMS SEARCH\n",
    "# #-------------------------------\n",
    "c = cortex\n",
    "c.N = 400\n",
    "c.g = 10\n",
    "c.d1 = 10\n",
    "c.d2 = 60000\n",
    "c.after = 5000\n",
    "c.d3 = 10\n",
    "c.initTime()\n",
    "c.sigma = 60\n",
    "c.WII = 1400 #2800\n",
    "c.S = 100\n",
    "c.model = \"gp-izh-subnetworks\"\n",
    "c.glob = 0\n",
    "# shared weights\n",
    "c.sG = 10\n",
    "c.sWII = 10\n",
    "c.FACT = 1\n",
    "c.r=0\n",
    "c.ratio = 15\n",
    "c.LTD  = 1e-0*4.7e-6 * c.FACT * c.N\n",
    "c.LTP = c.ratio * c.LTD\n",
    "c.tauv=15\n",
    "c.with_currents = True\n",
    "c.dt =0.25\n",
    "\n",
    "\n",
    "sWIIList = [0,10]\n",
    "sGList = [0,1,5,10,15,20,25]\n",
    "sGList = np.arange(0,30,2)\n",
    "LTDList = [1e-9*4.7e-6 * c.FACT * c.N, 1e-0*4.7e-6 * c.FACT * c.N]\n",
    "taulist = np.arange(15,95,2)\n",
    "\n",
    "# For testing\n",
    "# c.N=20\n",
    "# for c.tauv in taulist[:4]:\n",
    "#     for c.d2 in [1000]:\n",
    "#         for c.sWII in sWIIList[1:]:\n",
    "#             for c.sG in sGList[:3]:\n",
    "#                 for c.LTD in LTDList:\n",
    "#                     c.runSimulation()\n",
    "\n",
    "FILENAME = DIRECTORY + \"with_plast-ok.csv\"\n",
    "\n",
    "c.N=20\n",
    "for c.LTD in LTDList[1:]:\n",
    "    for c.d2 in [1000]:\n",
    "        for c.sWII in sWIIList[1:]:\n",
    "            for c.sG in sGList[:3]:\n",
    "                c.LTP = c.ratio * c.LTD\n",
    "                Parallel(n_jobs=8)(delayed(c.readToCSV)(filename=FILENAME, tauv=tauv, sG=c.sG, LTD=c.LTD, LTP=c.LTP, sWII=c.sWII) for tauv in taulist[:4])\n",
    "\n"
   ]
  },
  {
   "cell_type": "code",
   "execution_count": 5,
   "metadata": {
    "collapsed": false
   },
   "outputs": [],
   "source": [
    "c.d2 =1000\n",
    "c.T = c.d1+c.d2+c.d3\n",
    "mat = np.array(c.readMatrix())\n",
    "gn1 = np.mean(mat[0:(c.N-c.sG)//2,0:(c.N-c.sG)//2])\n",
    "gn2 = np.mean(mat[-(c.N-c.sG)//2:, -(c.N-c.sG)//2:])\n",
    "gnshared = np.mean(mat[(c.N-c.sG)//2:(c.N+c.sG)//2, (c.N-c.sG)//2:(c.N+c.sG)//2])\n"
   ]
  },
  {
   "cell_type": "code",
   "execution_count": 6,
   "metadata": {
    "collapsed": false
   },
   "outputs": [
    {
     "name": "stdout",
     "output_type": "stream",
     "text": [
      "0.16475215625 0.1455145625 0.082949\n"
     ]
    }
   ],
   "source": [
    "print(gn1, gn2, gnshared)"
   ]
  },
  {
   "cell_type": "code",
   "execution_count": null,
   "metadata": {
    "collapsed": true
   },
   "outputs": [],
   "source": []
  }
 ],
 "metadata": {
  "kernelspec": {
   "display_name": "Python 3",
   "language": "python",
   "name": "python3"
  },
  "language_info": {
   "codemirror_mode": {
    "name": "ipython",
    "version": 3
   },
   "file_extension": ".py",
   "mimetype": "text/x-python",
   "name": "python",
   "nbconvert_exporter": "python",
   "pygments_lexer": "ipython3",
   "version": "3.5.1"
  }
 },
 "nbformat": 4,
 "nbformat_minor": 0
}
