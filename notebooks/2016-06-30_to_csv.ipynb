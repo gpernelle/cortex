{
 "cells": [
  {
   "cell_type": "code",
   "execution_count": 1,
   "metadata": {
    "collapsed": false
   },
   "outputs": [
    {
     "data": {
      "text/html": [
       "\n",
       "    <div class=\"bk-banner\">\n",
       "        <a href=\"http://bokeh.pydata.org\" target=\"_blank\" class=\"bk-logo bk-logo-small bk-logo-notebook\"></a>\n",
       "        <span id=\"705b7f0d-f264-48bd-84b9-177a075fa3d6\">Loading BokehJS ...</span>\n",
       "    </div>"
      ]
     },
     "metadata": {},
     "output_type": "display_data"
    },
    {
     "data": {
      "application/javascript": [
       "\n",
       "(function(global) {\n",
       "  function now() {\n",
       "    return new Date();\n",
       "  }\n",
       "\n",
       "  if (typeof (window._bokeh_onload_callbacks) === \"undefined\") {\n",
       "    window._bokeh_onload_callbacks = [];\n",
       "  }\n",
       "\n",
       "  function run_callbacks() {\n",
       "    window._bokeh_onload_callbacks.forEach(function(callback) { callback() });\n",
       "    delete window._bokeh_onload_callbacks\n",
       "    console.info(\"Bokeh: all callbacks have finished\");\n",
       "  }\n",
       "\n",
       "  function load_libs(js_urls, callback) {\n",
       "    window._bokeh_onload_callbacks.push(callback);\n",
       "    if (window._bokeh_is_loading > 0) {\n",
       "      console.log(\"Bokeh: BokehJS is being loaded, scheduling callback at\", now());\n",
       "      return null;\n",
       "    }\n",
       "    if (js_urls == null || js_urls.length === 0) {\n",
       "      run_callbacks();\n",
       "      return null;\n",
       "    }\n",
       "    console.log(\"Bokeh: BokehJS not loaded, scheduling load and callback at\", now());\n",
       "    window._bokeh_is_loading = js_urls.length;\n",
       "    for (var i = 0; i < js_urls.length; i++) {\n",
       "      var url = js_urls[i];\n",
       "      var s = document.createElement('script');\n",
       "      s.src = url;\n",
       "      s.async = false;\n",
       "      s.onreadystatechange = s.onload = function() {\n",
       "        window._bokeh_is_loading--;\n",
       "        if (window._bokeh_is_loading === 0) {\n",
       "          console.log(\"Bokeh: all BokehJS libraries loaded\");\n",
       "          run_callbacks()\n",
       "        }\n",
       "      };\n",
       "      s.onerror = function() {\n",
       "        console.warn(\"failed to load library \" + url);\n",
       "      };\n",
       "      console.log(\"Bokeh: injecting script tag for BokehJS library: \", url);\n",
       "      document.getElementsByTagName(\"head\")[0].appendChild(s);\n",
       "    }\n",
       "  };\n",
       "\n",
       "  var js_urls = ['https://cdn.pydata.org/bokeh/release/bokeh-0.11.1.min.js', 'https://cdn.pydata.org/bokeh/release/bokeh-widgets-0.11.1.min.js', 'https://cdn.pydata.org/bokeh/release/bokeh-compiler-0.11.1.min.js'];\n",
       "\n",
       "  var inline_js = [\n",
       "    function(Bokeh) {\n",
       "      Bokeh.set_log_level(\"info\");\n",
       "    },\n",
       "    \n",
       "    function(Bokeh) {\n",
       "      Bokeh.$(\"#705b7f0d-f264-48bd-84b9-177a075fa3d6\").text(\"BokehJS successfully loaded\");\n",
       "    },\n",
       "    function(Bokeh) {\n",
       "      console.log(\"Bokeh: injecting CSS: https://cdn.pydata.org/bokeh/release/bokeh-0.11.1.min.css\");\n",
       "      Bokeh.embed.inject_css(\"https://cdn.pydata.org/bokeh/release/bokeh-0.11.1.min.css\");\n",
       "      console.log(\"Bokeh: injecting CSS: https://cdn.pydata.org/bokeh/release/bokeh-widgets-0.11.1.min.css\");\n",
       "      Bokeh.embed.inject_css(\"https://cdn.pydata.org/bokeh/release/bokeh-widgets-0.11.1.min.css\");\n",
       "    }\n",
       "  ];\n",
       "\n",
       "  function run_inline_js() {\n",
       "    for (var i = 0; i < inline_js.length; i++) {\n",
       "      inline_js[i](window.Bokeh);\n",
       "    }\n",
       "  }\n",
       "\n",
       "  if (window._bokeh_is_loading === 0) {\n",
       "    console.log(\"Bokeh: BokehJS loaded, going straight to plotting\");\n",
       "    run_inline_js();\n",
       "  } else {\n",
       "    load_libs(js_urls, function() {\n",
       "      console.log(\"Bokeh: BokehJS plotting callback run at\", now());\n",
       "      run_inline_js();\n",
       "    });\n",
       "  }\n",
       "}(this));"
      ]
     },
     "metadata": {},
     "output_type": "display_data"
    }
   ],
   "source": [
    "from __future__ import division\n",
    "from IO import *\n",
    "from cycler import cycler\n",
    "import matplotlib as mpl\n",
    "%matplotlib inline\n",
    "from numba import autojit\n",
    "\n",
    "%load_ext autoreload\n",
    "%autoreload 2\n",
    "\n",
    "today = datetime.date.today()\n",
    "todayStr = '%04d%02d%02d' % (today.year, today.month, today.day)\n",
    "# todayStr = '20151005'\n",
    "DIRECTORY = os.path.expanduser(\"~/Dropbox/0000 - PhD/figures/\"+todayStr+\"/\")\n",
    "if not os.path.exists(DIRECTORY):\n",
    "    os.makedirs(DIRECTORY)\n",
    "    \n",
    "from bokeh.io import output_notebook\n",
    "output_notebook()"
   ]
  },
  {
   "cell_type": "code",
   "execution_count": 2,
   "metadata": {
    "collapsed": false
   },
   "outputs": [
    {
     "data": {
      "application/javascript": [
       "IPython.OutputArea.auto_scroll_threshold = 9999;"
      ],
      "text/plain": [
       "<IPython.core.display.Javascript object>"
      ]
     },
     "metadata": {},
     "output_type": "display_data"
    }
   ],
   "source": [
    "%%javascript\n",
    "IPython.OutputArea.auto_scroll_threshold = 9999;"
   ]
  },
  {
   "cell_type": "code",
   "execution_count": 3,
   "metadata": {
    "collapsed": false
   },
   "outputs": [],
   "source": [
    "# Instantiate classes\n",
    "cortex = Cortex()\n",
    "trn = TRN()\n",
    "gr = GRAPH(cortex)\n",
    "\n",
    "# styling\n",
    "gammaColor = '#00cc99'\n"
   ]
  },
  {
   "cell_type": "code",
   "execution_count": 7,
   "metadata": {
    "collapsed": false,
    "scrolled": true
   },
   "outputs": [
    {
     "name": "stdout",
     "output_type": "stream",
     "text": [
      "./cortex -N 20 -ext _0.txt -d1 10 -d2 1000 -d3 10 -before 10 -after 30010 -S 100 -G 10 -s 60 -WII 1400 -LTP 0.0282 -LTD 1.88e-12 -model gp-izh-subnetworks -r 0 -global 0 -sG 0 -sWII 0 -tauv 11\n",
      "./cortex -N 20 -ext _0.txt -d1 10 -d2 1000 -d3 10 -before 10 -after 30010 -S 100 -G 10 -s 60 -WII 1400 -LTP 0.0282 -LTD 0.00188 -model gp-izh-subnetworks -r 0 -global 0 -sG 0 -sWII 0 -tauv 11\n",
      "./cortex -N 20 -ext _0.txt -d1 10 -d2 1000 -d3 10 -before 10 -after 30010 -S 100 -G 10 -s 60 -WII 1400 -LTP 0.0282 -LTD 1.88e-12 -model gp-izh-subnetworks -r 0 -global 0 -sG 4 -sWII 0 -tauv 11\n",
      "./cortex -N 20 -ext _0.txt -d1 10 -d2 1000 -d3 10 -before 10 -after 30010 -S 100 -G 10 -s 60 -WII 1400 -LTP 0.0282 -LTD 0.00188 -model gp-izh-subnetworks -r 0 -global 0 -sG 4 -sWII 0 -tauv 11\n",
      "./cortex -N 20 -ext _0.txt -d1 10 -d2 1000 -d3 10 -before 10 -after 30010 -S 100 -G 10 -s 60 -WII 1400 -LTP 0.0282 -LTD 1.88e-12 -model gp-izh-subnetworks -r 0 -global 0 -sG 8 -sWII 0 -tauv 11\n",
      "./cortex -N 20 -ext _0.txt -d1 10 -d2 1000 -d3 10 -before 10 -after 30010 -S 100 -G 10 -s 60 -WII 1400 -LTP 0.0282 -LTD 0.00188 -model gp-izh-subnetworks -r 0 -global 0 -sG 8 -sWII 0 -tauv 11\n",
      "./cortex -N 20 -ext _0.txt -d1 10 -d2 1000 -d3 10 -before 10 -after 30010 -S 100 -G 10 -s 60 -WII 1400 -LTP 0.0282 -LTD 1.88e-12 -model gp-izh-subnetworks -r 0 -global 0 -sG 0 -sWII 10 -tauv 11\n",
      "./cortex -N 20 -ext _0.txt -d1 10 -d2 1000 -d3 10 -before 10 -after 30010 -S 100 -G 10 -s 60 -WII 1400 -LTP 0.0282 -LTD 0.00188 -model gp-izh-subnetworks -r 0 -global 0 -sG 0 -sWII 10 -tauv 11\n",
      "./cortex -N 20 -ext _0.txt -d1 10 -d2 1000 -d3 10 -before 10 -after 30010 -S 100 -G 10 -s 60 -WII 1400 -LTP 0.0282 -LTD 1.88e-12 -model gp-izh-subnetworks -r 0 -global 0 -sG 4 -sWII 10 -tauv 11\n",
      "./cortex -N 20 -ext _0.txt -d1 10 -d2 1000 -d3 10 -before 10 -after 30010 -S 100 -G 10 -s 60 -WII 1400 -LTP 0.0282 -LTD 0.00188 -model gp-izh-subnetworks -r 0 -global 0 -sG 4 -sWII 10 -tauv 11\n",
      "./cortex -N 20 -ext _0.txt -d1 10 -d2 1000 -d3 10 -before 10 -after 30010 -S 100 -G 10 -s 60 -WII 1400 -LTP 0.0282 -LTD 1.88e-12 -model gp-izh-subnetworks -r 0 -global 0 -sG 8 -sWII 10 -tauv 11\n",
      "./cortex -N 20 -ext _0.txt -d1 10 -d2 1000 -d3 10 -before 10 -after 30010 -S 100 -G 10 -s 60 -WII 1400 -LTP 0.0282 -LTD 0.00188 -model gp-izh-subnetworks -r 0 -global 0 -sG 8 -sWII 10 -tauv 11\n",
      "./cortex -N 20 -ext _0.txt -d1 10 -d2 1000 -d3 10 -before 10 -after 30010 -S 100 -G 10 -s 60 -WII 1400 -LTP 0.0282 -LTD 1.88e-12 -model gp-izh-subnetworks -r 0 -global 0 -sG 0 -sWII 0 -tauv 15\n",
      "./cortex -N 20 -ext _0.txt -d1 10 -d2 1000 -d3 10 -before 10 -after 30010 -S 100 -G 10 -s 60 -WII 1400 -LTP 0.0282 -LTD 0.00188 -model gp-izh-subnetworks -r 0 -global 0 -sG 0 -sWII 0 -tauv 15\n",
      "./cortex -N 20 -ext _0.txt -d1 10 -d2 1000 -d3 10 -before 10 -after 30010 -S 100 -G 10 -s 60 -WII 1400 -LTP 0.0282 -LTD 1.88e-12 -model gp-izh-subnetworks -r 0 -global 0 -sG 4 -sWII 0 -tauv 15\n",
      "./cortex -N 20 -ext _0.txt -d1 10 -d2 1000 -d3 10 -before 10 -after 30010 -S 100 -G 10 -s 60 -WII 1400 -LTP 0.0282 -LTD 0.00188 -model gp-izh-subnetworks -r 0 -global 0 -sG 4 -sWII 0 -tauv 15\n",
      "./cortex -N 20 -ext _0.txt -d1 10 -d2 1000 -d3 10 -before 10 -after 30010 -S 100 -G 10 -s 60 -WII 1400 -LTP 0.0282 -LTD 1.88e-12 -model gp-izh-subnetworks -r 0 -global 0 -sG 8 -sWII 0 -tauv 15\n",
      "./cortex -N 20 -ext _0.txt -d1 10 -d2 1000 -d3 10 -before 10 -after 30010 -S 100 -G 10 -s 60 -WII 1400 -LTP 0.0282 -LTD 0.00188 -model gp-izh-subnetworks -r 0 -global 0 -sG 8 -sWII 0 -tauv 15\n",
      "./cortex -N 20 -ext _0.txt -d1 10 -d2 1000 -d3 10 -before 10 -after 30010 -S 100 -G 10 -s 60 -WII 1400 -LTP 0.0282 -LTD 1.88e-12 -model gp-izh-subnetworks -r 0 -global 0 -sG 0 -sWII 10 -tauv 15\n",
      "./cortex -N 20 -ext _0.txt -d1 10 -d2 1000 -d3 10 -before 10 -after 30010 -S 100 -G 10 -s 60 -WII 1400 -LTP 0.0282 -LTD 0.00188 -model gp-izh-subnetworks -r 0 -global 0 -sG 0 -sWII 10 -tauv 15\n",
      "./cortex -N 20 -ext _0.txt -d1 10 -d2 1000 -d3 10 -before 10 -after 30010 -S 100 -G 10 -s 60 -WII 1400 -LTP 0.0282 -LTD 1.88e-12 -model gp-izh-subnetworks -r 0 -global 0 -sG 4 -sWII 10 -tauv 15\n",
      "./cortex -N 20 -ext _0.txt -d1 10 -d2 1000 -d3 10 -before 10 -after 30010 -S 100 -G 10 -s 60 -WII 1400 -LTP 0.0282 -LTD 0.00188 -model gp-izh-subnetworks -r 0 -global 0 -sG 4 -sWII 10 -tauv 15\n",
      "./cortex -N 20 -ext _0.txt -d1 10 -d2 1000 -d3 10 -before 10 -after 30010 -S 100 -G 10 -s 60 -WII 1400 -LTP 0.0282 -LTD 1.88e-12 -model gp-izh-subnetworks -r 0 -global 0 -sG 8 -sWII 10 -tauv 15\n",
      "./cortex -N 20 -ext _0.txt -d1 10 -d2 1000 -d3 10 -before 10 -after 30010 -S 100 -G 10 -s 60 -WII 1400 -LTP 0.0282 -LTD 0.00188 -model gp-izh-subnetworks -r 0 -global 0 -sG 8 -sWII 10 -tauv 15\n",
      "./cortex -N 20 -ext _0.txt -d1 10 -d2 1000 -d3 10 -before 10 -after 30010 -S 100 -G 10 -s 60 -WII 1400 -LTP 0.0282 -LTD 1.88e-12 -model gp-izh-subnetworks -r 0 -global 0 -sG 0 -sWII 0 -tauv 19\n",
      "./cortex -N 20 -ext _0.txt -d1 10 -d2 1000 -d3 10 -before 10 -after 30010 -S 100 -G 10 -s 60 -WII 1400 -LTP 0.0282 -LTD 0.00188 -model gp-izh-subnetworks -r 0 -global 0 -sG 0 -sWII 0 -tauv 19\n",
      "./cortex -N 20 -ext _0.txt -d1 10 -d2 1000 -d3 10 -before 10 -after 30010 -S 100 -G 10 -s 60 -WII 1400 -LTP 0.0282 -LTD 1.88e-12 -model gp-izh-subnetworks -r 0 -global 0 -sG 4 -sWII 0 -tauv 19\n",
      "./cortex -N 20 -ext _0.txt -d1 10 -d2 1000 -d3 10 -before 10 -after 30010 -S 100 -G 10 -s 60 -WII 1400 -LTP 0.0282 -LTD 0.00188 -model gp-izh-subnetworks -r 0 -global 0 -sG 4 -sWII 0 -tauv 19\n",
      "./cortex -N 20 -ext _0.txt -d1 10 -d2 1000 -d3 10 -before 10 -after 30010 -S 100 -G 10 -s 60 -WII 1400 -LTP 0.0282 -LTD 1.88e-12 -model gp-izh-subnetworks -r 0 -global 0 -sG 8 -sWII 0 -tauv 19\n",
      "./cortex -N 20 -ext _0.txt -d1 10 -d2 1000 -d3 10 -before 10 -after 30010 -S 100 -G 10 -s 60 -WII 1400 -LTP 0.0282 -LTD 0.00188 -model gp-izh-subnetworks -r 0 -global 0 -sG 8 -sWII 0 -tauv 19\n",
      "./cortex -N 20 -ext _0.txt -d1 10 -d2 1000 -d3 10 -before 10 -after 30010 -S 100 -G 10 -s 60 -WII 1400 -LTP 0.0282 -LTD 1.88e-12 -model gp-izh-subnetworks -r 0 -global 0 -sG 0 -sWII 10 -tauv 19\n",
      "./cortex -N 20 -ext _0.txt -d1 10 -d2 1000 -d3 10 -before 10 -after 30010 -S 100 -G 10 -s 60 -WII 1400 -LTP 0.0282 -LTD 0.00188 -model gp-izh-subnetworks -r 0 -global 0 -sG 0 -sWII 10 -tauv 19\n",
      "./cortex -N 20 -ext _0.txt -d1 10 -d2 1000 -d3 10 -before 10 -after 30010 -S 100 -G 10 -s 60 -WII 1400 -LTP 0.0282 -LTD 1.88e-12 -model gp-izh-subnetworks -r 0 -global 0 -sG 4 -sWII 10 -tauv 19\n",
      "./cortex -N 20 -ext _0.txt -d1 10 -d2 1000 -d3 10 -before 10 -after 30010 -S 100 -G 10 -s 60 -WII 1400 -LTP 0.0282 -LTD 0.00188 -model gp-izh-subnetworks -r 0 -global 0 -sG 4 -sWII 10 -tauv 19\n",
      "./cortex -N 20 -ext _0.txt -d1 10 -d2 1000 -d3 10 -before 10 -after 30010 -S 100 -G 10 -s 60 -WII 1400 -LTP 0.0282 -LTD 1.88e-12 -model gp-izh-subnetworks -r 0 -global 0 -sG 8 -sWII 10 -tauv 19\n",
      "./cortex -N 20 -ext _0.txt -d1 10 -d2 1000 -d3 10 -before 10 -after 30010 -S 100 -G 10 -s 60 -WII 1400 -LTP 0.0282 -LTD 0.00188 -model gp-izh-subnetworks -r 0 -global 0 -sG 8 -sWII 10 -tauv 19\n",
      "./cortex -N 20 -ext _0.txt -d1 10 -d2 1000 -d3 10 -before 10 -after 30010 -S 100 -G 10 -s 60 -WII 1400 -LTP 0.0282 -LTD 1.88e-12 -model gp-izh-subnetworks -r 0 -global 0 -sG 0 -sWII 0 -tauv 23\n",
      "./cortex -N 20 -ext _0.txt -d1 10 -d2 1000 -d3 10 -before 10 -after 30010 -S 100 -G 10 -s 60 -WII 1400 -LTP 0.0282 -LTD 0.00188 -model gp-izh-subnetworks -r 0 -global 0 -sG 0 -sWII 0 -tauv 23\n",
      "./cortex -N 20 -ext _0.txt -d1 10 -d2 1000 -d3 10 -before 10 -after 30010 -S 100 -G 10 -s 60 -WII 1400 -LTP 0.0282 -LTD 1.88e-12 -model gp-izh-subnetworks -r 0 -global 0 -sG 4 -sWII 0 -tauv 23\n",
      "./cortex -N 20 -ext _0.txt -d1 10 -d2 1000 -d3 10 -before 10 -after 30010 -S 100 -G 10 -s 60 -WII 1400 -LTP 0.0282 -LTD 0.00188 -model gp-izh-subnetworks -r 0 -global 0 -sG 4 -sWII 0 -tauv 23\n",
      "./cortex -N 20 -ext _0.txt -d1 10 -d2 1000 -d3 10 -before 10 -after 30010 -S 100 -G 10 -s 60 -WII 1400 -LTP 0.0282 -LTD 1.88e-12 -model gp-izh-subnetworks -r 0 -global 0 -sG 8 -sWII 0 -tauv 23\n",
      "./cortex -N 20 -ext _0.txt -d1 10 -d2 1000 -d3 10 -before 10 -after 30010 -S 100 -G 10 -s 60 -WII 1400 -LTP 0.0282 -LTD 0.00188 -model gp-izh-subnetworks -r 0 -global 0 -sG 8 -sWII 0 -tauv 23\n",
      "./cortex -N 20 -ext _0.txt -d1 10 -d2 1000 -d3 10 -before 10 -after 30010 -S 100 -G 10 -s 60 -WII 1400 -LTP 0.0282 -LTD 1.88e-12 -model gp-izh-subnetworks -r 0 -global 0 -sG 0 -sWII 10 -tauv 23\n",
      "./cortex -N 20 -ext _0.txt -d1 10 -d2 1000 -d3 10 -before 10 -after 30010 -S 100 -G 10 -s 60 -WII 1400 -LTP 0.0282 -LTD 0.00188 -model gp-izh-subnetworks -r 0 -global 0 -sG 0 -sWII 10 -tauv 23\n",
      "./cortex -N 20 -ext _0.txt -d1 10 -d2 1000 -d3 10 -before 10 -after 30010 -S 100 -G 10 -s 60 -WII 1400 -LTP 0.0282 -LTD 1.88e-12 -model gp-izh-subnetworks -r 0 -global 0 -sG 4 -sWII 10 -tauv 23\n",
      "./cortex -N 20 -ext _0.txt -d1 10 -d2 1000 -d3 10 -before 10 -after 30010 -S 100 -G 10 -s 60 -WII 1400 -LTP 0.0282 -LTD 0.00188 -model gp-izh-subnetworks -r 0 -global 0 -sG 4 -sWII 10 -tauv 23\n",
      "./cortex -N 20 -ext _0.txt -d1 10 -d2 1000 -d3 10 -before 10 -after 30010 -S 100 -G 10 -s 60 -WII 1400 -LTP 0.0282 -LTD 1.88e-12 -model gp-izh-subnetworks -r 0 -global 0 -sG 8 -sWII 10 -tauv 23\n",
      "./cortex -N 20 -ext _0.txt -d1 10 -d2 1000 -d3 10 -before 10 -after 30010 -S 100 -G 10 -s 60 -WII 1400 -LTP 0.0282 -LTD 0.00188 -model gp-izh-subnetworks -r 0 -global 0 -sG 8 -sWII 10 -tauv 23\n",
      "11 0 0\n",
      "can't find:\t /Users/guillaume/Dropbox/ICL-2014/Code/C-Code/cortex/data/gamma_g-10_TImean-30_T-1020_Glob-0_dt-0.25_N-20_r-0_S-100_WII-1400_LTD-1.88e-12_LTP-2.82e-11_model-gp-izh-subnetworks_sG-0_sWII-0_tauv-11_0.txt\n"
     ]
    },
    {
     "ename": "UnboundLocalError",
     "evalue": "local variable 'i1' referenced before assignment",
     "output_type": "error",
     "traceback": [
      "\u001b[0;31m---------------------------------------------------------------------------\u001b[0m",
      "\u001b[0;31mUnboundLocalError\u001b[0m                         Traceback (most recent call last)",
      "\u001b[0;32m<ipython-input-7-fee473359fbc>\u001b[0m in \u001b[0;36m<module>\u001b[0;34m()\u001b[0m\n\u001b[1;32m     48\u001b[0m                     \u001b[0mc\u001b[0m\u001b[0;34m.\u001b[0m\u001b[0mLTP\u001b[0m \u001b[0;34m=\u001b[0m \u001b[0mc\u001b[0m\u001b[0;34m.\u001b[0m\u001b[0mratio\u001b[0m \u001b[0;34m*\u001b[0m \u001b[0mc\u001b[0m\u001b[0;34m.\u001b[0m\u001b[0mLTD\u001b[0m\u001b[0;34m\u001b[0m\u001b[0m\n\u001b[1;32m     49\u001b[0m                     \u001b[0mprint\u001b[0m\u001b[0;34m(\u001b[0m\u001b[0mc\u001b[0m\u001b[0;34m.\u001b[0m\u001b[0mtauv\u001b[0m\u001b[0;34m,\u001b[0m \u001b[0mc\u001b[0m\u001b[0;34m.\u001b[0m\u001b[0msWII\u001b[0m\u001b[0;34m,\u001b[0m \u001b[0mc\u001b[0m\u001b[0;34m.\u001b[0m\u001b[0msG\u001b[0m\u001b[0;34m)\u001b[0m\u001b[0;34m\u001b[0m\u001b[0m\n\u001b[0;32m---> 50\u001b[0;31m                     \u001b[0mc\u001b[0m\u001b[0;34m.\u001b[0m\u001b[0mreadToCSV\u001b[0m\u001b[0;34m(\u001b[0m\u001b[0mfilename\u001b[0m\u001b[0;34m=\u001b[0m\u001b[0;34m\"test.csv\"\u001b[0m\u001b[0;34m)\u001b[0m\u001b[0;34m\u001b[0m\u001b[0m\n\u001b[0m\u001b[1;32m     51\u001b[0m \u001b[0;34m\u001b[0m\u001b[0m\n",
      "\u001b[0;32m/Users/guillaume/Dropbox/ICL-2014/Code/C-Code/cortex/notebooks/IO.py\u001b[0m in \u001b[0;36mreadToCSV\u001b[0;34m(self, i, filename)\u001b[0m\n\u001b[1;32m    168\u001b[0m \u001b[0;34m\u001b[0m\u001b[0m\n\u001b[1;32m    169\u001b[0m         \u001b[0mdictRes\u001b[0m \u001b[0;34m=\u001b[0m \u001b[0;34m{\u001b[0m\u001b[0;34m}\u001b[0m\u001b[0;34m\u001b[0m\u001b[0m\n\u001b[0;32m--> 170\u001b[0;31m         \u001b[0mf\u001b[0m\u001b[0;34m,\u001b[0m \u001b[0mPxy\u001b[0m \u001b[0;34m=\u001b[0m \u001b[0msignal\u001b[0m\u001b[0;34m.\u001b[0m\u001b[0mcsd\u001b[0m\u001b[0;34m(\u001b[0m\u001b[0mi1\u001b[0m\u001b[0;34m[\u001b[0m\u001b[0mstart\u001b[0m\u001b[0;34m:\u001b[0m\u001b[0mend\u001b[0m\u001b[0;34m]\u001b[0m\u001b[0;34m,\u001b[0m \u001b[0mi2\u001b[0m\u001b[0;34m[\u001b[0m\u001b[0mstart\u001b[0m\u001b[0;34m:\u001b[0m\u001b[0mend\u001b[0m\u001b[0;34m]\u001b[0m\u001b[0;34m,\u001b[0m \u001b[0mfs\u001b[0m\u001b[0;34m=\u001b[0m\u001b[0;36m1\u001b[0m \u001b[0;34m/\u001b[0m \u001b[0;36m0.00025\u001b[0m\u001b[0;34m,\u001b[0m \u001b[0mnperseg\u001b[0m\u001b[0;34m=\u001b[0m\u001b[0;36m1024\u001b[0m\u001b[0;34m)\u001b[0m\u001b[0;34m\u001b[0m\u001b[0m\n\u001b[0m\u001b[1;32m    171\u001b[0m         \u001b[0mf2\u001b[0m\u001b[0;34m,\u001b[0m \u001b[0mPxy2\u001b[0m \u001b[0;34m=\u001b[0m \u001b[0msignal\u001b[0m\u001b[0;34m.\u001b[0m\u001b[0mcsd\u001b[0m\u001b[0;34m(\u001b[0m\u001b[0mi1\u001b[0m\u001b[0;34m[\u001b[0m\u001b[0;34m-\u001b[0m\u001b[0mend\u001b[0m\u001b[0;34m:\u001b[0m\u001b[0;34m-\u001b[0m\u001b[0;36m1\u001b[0m\u001b[0;34m]\u001b[0m\u001b[0;34m,\u001b[0m \u001b[0mi2\u001b[0m\u001b[0;34m[\u001b[0m\u001b[0;34m-\u001b[0m\u001b[0mend\u001b[0m\u001b[0;34m:\u001b[0m\u001b[0;34m-\u001b[0m\u001b[0;36m1\u001b[0m\u001b[0;34m]\u001b[0m\u001b[0;34m,\u001b[0m \u001b[0mfs\u001b[0m\u001b[0;34m=\u001b[0m\u001b[0;36m1\u001b[0m \u001b[0;34m/\u001b[0m \u001b[0;36m0.00025\u001b[0m\u001b[0;34m,\u001b[0m \u001b[0mnperseg\u001b[0m\u001b[0;34m=\u001b[0m\u001b[0;36m1024\u001b[0m\u001b[0;34m)\u001b[0m\u001b[0;34m\u001b[0m\u001b[0m\n\u001b[1;32m    172\u001b[0m \u001b[0;34m\u001b[0m\u001b[0m\n",
      "\u001b[0;31mUnboundLocalError\u001b[0m: local variable 'i1' referenced before assignment"
     ]
    }
   ],
   "source": [
    "# #-------------------------------\n",
    "# # PARAMS SEARCH\n",
    "# #-------------------------------\n",
    "c = cortex\n",
    "c.N = 400\n",
    "c.g = 10\n",
    "c.d1 = 10\n",
    "c.d2 = 60000\n",
    "c.after = 5000\n",
    "c.d3 = 10\n",
    "c.initTime()\n",
    "c.sigma = 60\n",
    "c.WII = 1400 #2800\n",
    "c.S = 100\n",
    "c.model = \"gp-izh-subnetworks\"\n",
    "c.glob = 0\n",
    "# shared weights\n",
    "c.sG = 10\n",
    "c.sWII = 10\n",
    "c.FACT = 1\n",
    "c.r=0\n",
    "c.ratio = 15\n",
    "c.LTD  = 1e-0*4.7e-6 * c.FACT * c.N\n",
    "c.LTP = c.ratio * c.LTD\n",
    "c.tauv=15\n",
    "c.with_currents = True\n",
    "c.dt =0.25\n",
    "\n",
    "\n",
    "sWIIList = [0,10]\n",
    "sGList = [0,1,5,10,15,20,25]\n",
    "sGList = np.arange(0,30,2)\n",
    "LTDList = [1e-9*4.7e-6 * c.FACT * c.N, 1e-0*4.7e-6 * c.FACT * c.N]\n",
    "taulist = np.arange(15,95,2)\n",
    "\n",
    "# # For testing\n",
    "# c.N=20\n",
    "# for c.tauv in taulist[:4]:\n",
    "#     for c.d2 in [1000]:\n",
    "#         for c.sWII in sWIIList:\n",
    "#             for c.sG in sGList[:3]:\n",
    "#                 for c.LTD in LTDList:b\n",
    "#                     c.runSimulation()\n",
    "\n",
    "FILENAME = DIRECTORY + \"with_plast-ok.csv\"\n",
    "\n",
    "for c.tauv in taulist[:4]:\n",
    "    for c.d2 in [60000]:\n",
    "        for c.sWII in sWIIList[1:]:\n",
    "            for c.sG in sGList[:3]:\n",
    "                for c.LTD in LTDList:\n",
    "                    c.LTP = c.ratio * c.LTD\n",
    "                    print(c.tauv, c.sWII, c.sG)\n",
    "                    Parallel(n_jobs=50)(delayed(c.readToCSV(filename=FILENAME))(i=0, tauv=c.tauv) for c.tauv in taulist)\n",
    "                    c.readToCSV(filename=\"test.csv\")\n",
    "\n"
   ]
  }
 ],
 "metadata": {
  "kernelspec": {
   "display_name": "Python 3",
   "language": "python",
   "name": "python3"
  },
  "language_info": {
   "codemirror_mode": {
    "name": "ipython",
    "version": 3
   },
   "file_extension": ".py",
   "mimetype": "text/x-python",
   "name": "python",
   "nbconvert_exporter": "python",
   "pygments_lexer": "ipython3",
   "version": "3.5.1"
  }
 },
 "nbformat": 4,
 "nbformat_minor": 0
}
