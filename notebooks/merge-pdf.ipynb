{
 "cells": [
  {
   "cell_type": "code",
   "execution_count": 19,
   "metadata": {
    "collapsed": false
   },
   "outputs": [],
   "source": [
    "from __future__ import print_function\n",
    "import os\n",
    "# from PIL import Image as Image\n",
    "from wand.image import Image\n",
    "\n"
   ]
  },
  {
   "cell_type": "code",
   "execution_count": 22,
   "metadata": {
    "collapsed": false
   },
   "outputs": [],
   "source": [
    "DIR = '/Users/GP1514/Dropbox/0000 - PhD/figures/20160111/movie/'\n",
    "files = os.listdir(DIR)"
   ]
  },
  {
   "cell_type": "code",
   "execution_count": 23,
   "metadata": {
    "collapsed": false
   },
   "outputs": [],
   "source": [
    "# for index, file in enumerate(files):\n",
    "#     with Image(filename=DIR+file) as img:\n",
    "#         img.save(filename=DIR+file+\".jpg\")\n"
   ]
  },
  {
   "cell_type": "code",
   "execution_count": 18,
   "metadata": {
    "collapsed": false
   },
   "outputs": [
    {
     "name": "stdout",
     "output_type": "stream",
     "text": [
      "pos 0,0 size 400,266\n",
      "pos 0,266 size 400,266\n",
      "pos 0,532 size 400,266\n",
      "pos 0,798 size 400,266\n",
      "pos 0,1064 size 400,266\n",
      "pos 400,0 size 400,266\n",
      "pos 400,266 size 400,266\n",
      "pos 400,532 size 400,266\n",
      "pos 400,798 size 400,266\n",
      "pos 400,1064 size 400,266\n",
      "pos 800,0 size 400,266\n",
      "pos 800,266 size 400,266\n",
      "pos 800,532 size 400,266\n",
      "pos 800,798 size 400,266\n",
      "pos 800,1064 size 400,266\n",
      "pos 1200,0 size 400,266\n",
      "pos 1200,266 size 400,266\n",
      "pos 1200,532 size 400,266\n",
      "pos 1200,798 size 400,266\n",
      "pos 1200,1064 size 400,266\n",
      "pos 1600,0 size 400,266\n",
      "pos 1600,266 size 400,266\n",
      "pos 1600,532 size 400,266\n",
      "pos 1600,798 size 400,266\n",
      "pos 1600,1064 size 400,266\n",
      "pos 2000,0 size 400,240\n"
     ]
    }
   ],
   "source": [
    "# files = [\n",
    "#   '~/Downloads/1.jpg',\n",
    "#   '~/Downloads/2.jpg',\n",
    "#   '~/Downloads/3.jpg',\n",
    "#   '~/Downloads/4.jpg']\n",
    "\n",
    "img = Image.open(DIR+'bursting_phase_plan__data_7-wii300-n2500-r08.csv.pdf.jpg')\n",
    "w, h = img.size\n",
    "result = Image.new(\"RGB\", (w*5, h*5))\n",
    "index = 0\n",
    "for i, file in enumerate(files):\n",
    "#   path = os.path.expanduser(file)\n",
    "    try:\n",
    "        img = Image.open(DIR+file)\n",
    "        img.thumbnail((400, 400), Image.ANTIALIAS)\n",
    "        w, h = img.size\n",
    "        x = index // 5 * w\n",
    "        y = index % 5 * h\n",
    "        w, h = img.size\n",
    "        print('pos {0},{1} size {2},{3}'.format(x, y, w, h))\n",
    "        result.paste(img, (x, y, x + w, y + h))\n",
    "        index+=1\n",
    "    except:\n",
    "        pass\n",
    "    \n",
    "result.save(os.path.expanduser(DIR+'/image.jpg'))"
   ]
  },
  {
   "cell_type": "code",
   "execution_count": null,
   "metadata": {
    "collapsed": true
   },
   "outputs": [],
   "source": []
  }
 ],
 "metadata": {
  "kernelspec": {
   "display_name": "Python 3",
   "language": "python",
   "name": "python3"
  },
  "language_info": {
   "codemirror_mode": {
    "name": "ipython",
    "version": 3
   },
   "file_extension": ".py",
   "mimetype": "text/x-python",
   "name": "python",
   "nbconvert_exporter": "python",
   "pygments_lexer": "ipython3",
   "version": "3.5.0"
  }
 },
 "nbformat": 4,
 "nbformat_minor": 0
}
