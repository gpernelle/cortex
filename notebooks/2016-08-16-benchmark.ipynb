{
 "cells": [
  {
   "cell_type": "code",
   "execution_count": 1,
   "metadata": {
    "collapsed": false
   },
   "outputs": [],
   "source": [
    "import tensorflow as tf\n",
    "from functionsTF import *\n",
    "from functions import *\n",
    "from IO import *\n",
    "\n",
    "%load_ext autoreload\n",
    "%autoreload 2\n",
    "\n",
    "import time\n",
    "import numpy as np\n",
    "import matplotlib\n",
    "%matplotlib inline\n",
    "import pylab as plt\n",
    "import seaborn as sns\n",
    "#Imports for visualization\n",
    "import PIL.Image\n",
    "from io import BytesIO\n",
    "from IPython.display import clear_output, Image, display\n",
    "import time\n",
    "import pandas as pd\n",
    "import gc"
   ]
  },
  {
   "cell_type": "code",
   "execution_count": 2,
   "metadata": {
    "collapsed": true
   },
   "outputs": [],
   "source": [
    "import mutual_info"
   ]
  },
  {
   "cell_type": "code",
   "execution_count": 3,
   "metadata": {
    "collapsed": false
   },
   "outputs": [],
   "source": [
    "N = 400\n",
    "T = 4000\n",
    "disp = False\n",
    "tauv = 45\n",
    "sG = 50\n",
    "both=False\n",
    "DEVICE = '/gpu:0'"
   ]
  },
  {
   "cell_type": "code",
   "execution_count": 4,
   "metadata": {
    "collapsed": false
   },
   "outputs": [],
   "source": [
    "# t0 = time.time()\n",
    "# gpu = Tfnet(N=N,T=T, disp=disp, tauv=tauv, sG=sG, device=DEVICE, both=both)\n",
    "# apple = generateInput(3, T, 60)\n",
    "# gpu.input = apple\n",
    "# gpu.both = False\n",
    "# gpu.runTFSimul()\n",
    "# t1 = time.time()"
   ]
  },
  {
   "cell_type": "code",
   "execution_count": null,
   "metadata": {
    "collapsed": false
   },
   "outputs": [
    {
     "name": "stdout",
     "output_type": "stream",
     "text": [
      "1.46\n",
      "1.48\n",
      "1.52\n",
      "1.63\n",
      "1.78\n",
      "2.80\n",
      "9.63\n"
     ]
    }
   ],
   "source": [
    "disp = False\n",
    "tauv = 45\n",
    "sG = 50\n",
    "both=False\n",
    "\n",
    "i=0\n",
    "df = pd.DataFrame(columns=('dev','T','N','t', 'num_cores')) \n",
    "\n",
    "DEVICE = '/gpu:0'\n",
    "for T in [400, 4000, 8000]:\n",
    "    for N in [100, 200, 400, 800, 1000, 2000, 4000, 6000, 8000]:\n",
    "        ### input 1: apple\n",
    "        try:\n",
    "            t0 = time.time()\n",
    "            gpu = Tfnet(N=N,T=T, disp=disp, tauv=tauv, sG=sG, \n",
    "                        device=DEVICE, both=both, NUM_CORES=56)\n",
    "            apple = generateInput(3, T, 60)\n",
    "            gpu.input = apple\n",
    "            gpu.both = False\n",
    "            gpu.runTFSimul()\n",
    "            t1 = time.time()\n",
    "            df.loc[i] = [DEVICE, T, N, t1-t0, 0]\n",
    "            del gpu\n",
    "        except:\n",
    "            print('problem: ', DEVICE, T, N)\n",
    "            df.loc[i] = [DEVICE, T, N,-1, 0]\n",
    "        i+=1\n",
    "        gc.collect()\n",
    "        \n",
    "        \n",
    "DEVICE = '/cpu:0'\n",
    "for NUM_CORES in  [1,8,28,56]:\n",
    "    for T in [400, 4000, 8000]:\n",
    "        for N in [100, 200, 400, 800, 1000, 2000, 4000, 6000, 8000]:\n",
    "            ### input 1: apple\n",
    "            try:\n",
    "                t0 = time.time()\n",
    "                gpu = Tfnet(N=N,T=T, disp=disp, tauv=tauv, sG=sG, \n",
    "                            device=DEVICE, both=both, NUM_CORES=NUM_CORES)\n",
    "                apple = generateInput(3, T, 60)\n",
    "                gpu.input = apple\n",
    "                gpu.both = False\n",
    "                gpu.runTFSimul()\n",
    "                t1 = time.time()\n",
    "                df.loc[i] = [DEVICE, T, N, t1-t0, NUM_CORES]\n",
    "                del gpu\n",
    "            except:\n",
    "                print('problem: ', DEVICE, T, N)\n",
    "                df.loc[i] = [DEVICE, T, N,-1, NUM_CORES]\n",
    "            i+=1\n",
    "            gc.collect()"
   ]
  },
  {
   "cell_type": "code",
   "execution_count": null,
   "metadata": {
    "collapsed": false
   },
   "outputs": [],
   "source": [
    "df.to_csv(DIRECTORY + 'benchmark.csv')"
   ]
  },
  {
   "cell_type": "code",
   "execution_count": null,
   "metadata": {
    "collapsed": false
   },
   "outputs": [],
   "source": [
    "df2 = df.from_csv(DIRECTORY + 'benchmark.csv')\n",
    "df2"
   ]
  },
  {
   "cell_type": "code",
   "execution_count": null,
   "metadata": {
    "collapsed": true
   },
   "outputs": [],
   "source": []
  }
 ],
 "metadata": {
  "kernelspec": {
   "display_name": "Python [Root]",
   "language": "python",
   "name": "Python [Root]"
  },
  "language_info": {
   "codemirror_mode": {
    "name": "ipython",
    "version": 3
   },
   "file_extension": ".py",
   "mimetype": "text/x-python",
   "name": "python",
   "nbconvert_exporter": "python",
   "pygments_lexer": "ipython3",
   "version": "3.5.1"
  }
 },
 "nbformat": 4,
 "nbformat_minor": 0
}
